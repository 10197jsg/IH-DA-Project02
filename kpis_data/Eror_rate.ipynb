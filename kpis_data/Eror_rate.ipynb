{
 "cells": [
  {
   "cell_type": "code",
   "execution_count": 3,
   "id": "e5947ad1-285a-48ad-b262-82cfc586884b",
   "metadata": {},
   "outputs": [
    {
     "name": "stderr",
     "output_type": "stream",
     "text": [
      "/var/folders/l4/g8j3y_vx0pq5tl_95dwxp9hr0000gp/T/ipykernel_23509/1163383113.py:2: DtypeWarning: Columns (10,15) have mixed types. Specify dtype option on import or set low_memory=False.\n",
      "  full_merged=pd.read_csv('/Users/ahmadkhalilghamai/Desktop/IH-DA-Project02/my project csv files/full_merged.csv')\n"
     ]
    },
    {
     "data": {
      "text/html": [
       "<div>\n",
       "<style scoped>\n",
       "    .dataframe tbody tr th:only-of-type {\n",
       "        vertical-align: middle;\n",
       "    }\n",
       "\n",
       "    .dataframe tbody tr th {\n",
       "        vertical-align: top;\n",
       "    }\n",
       "\n",
       "    .dataframe thead th {\n",
       "        text-align: right;\n",
       "    }\n",
       "</style>\n",
       "<table border=\"1\" class=\"dataframe\">\n",
       "  <thead>\n",
       "    <tr style=\"text-align: right;\">\n",
       "      <th></th>\n",
       "      <th>Unnamed: 0</th>\n",
       "      <th>client_id</th>\n",
       "      <th>visitor_id</th>\n",
       "      <th>visit_id</th>\n",
       "      <th>process_step</th>\n",
       "      <th>date_time</th>\n",
       "      <th>is_client</th>\n",
       "      <th>clnt_tenure_yr</th>\n",
       "      <th>clnt_tenure_mnth</th>\n",
       "      <th>clnt_age</th>\n",
       "      <th>gendr</th>\n",
       "      <th>num_accts</th>\n",
       "      <th>bal</th>\n",
       "      <th>calls_6_mnth</th>\n",
       "      <th>logons_6_mnth</th>\n",
       "      <th>variation</th>\n",
       "    </tr>\n",
       "  </thead>\n",
       "  <tbody>\n",
       "    <tr>\n",
       "      <th>0</th>\n",
       "      <td>0</td>\n",
       "      <td>9988021</td>\n",
       "      <td>580560515_7732621733</td>\n",
       "      <td>781255054_21935453173_531117</td>\n",
       "      <td>step_2</td>\n",
       "      <td>2017-04-17 15:26:51</td>\n",
       "      <td>True</td>\n",
       "      <td>6.0</td>\n",
       "      <td>73.0</td>\n",
       "      <td>60.5</td>\n",
       "      <td>NaN</td>\n",
       "      <td>2.0</td>\n",
       "      <td>45105.30</td>\n",
       "      <td>6.0</td>\n",
       "      <td>9.0</td>\n",
       "      <td>Test</td>\n",
       "    </tr>\n",
       "    <tr>\n",
       "      <th>1</th>\n",
       "      <td>1</td>\n",
       "      <td>9988021</td>\n",
       "      <td>580560515_7732621733</td>\n",
       "      <td>781255054_21935453173_531117</td>\n",
       "      <td>step_3</td>\n",
       "      <td>2017-04-17 15:19:22</td>\n",
       "      <td>True</td>\n",
       "      <td>7.0</td>\n",
       "      <td>94.0</td>\n",
       "      <td>58.0</td>\n",
       "      <td>NaN</td>\n",
       "      <td>2.0</td>\n",
       "      <td>110860.30</td>\n",
       "      <td>6.0</td>\n",
       "      <td>9.0</td>\n",
       "      <td>Test</td>\n",
       "    </tr>\n",
       "    <tr>\n",
       "      <th>2</th>\n",
       "      <td>2</td>\n",
       "      <td>9988021</td>\n",
       "      <td>580560515_7732621733</td>\n",
       "      <td>781255054_21935453173_531117</td>\n",
       "      <td>step_2</td>\n",
       "      <td>2017-04-17 15:19:13</td>\n",
       "      <td>True</td>\n",
       "      <td>5.0</td>\n",
       "      <td>64.0</td>\n",
       "      <td>32.0</td>\n",
       "      <td>NaN</td>\n",
       "      <td>2.0</td>\n",
       "      <td>52467.79</td>\n",
       "      <td>6.0</td>\n",
       "      <td>9.0</td>\n",
       "      <td>Test</td>\n",
       "    </tr>\n",
       "    <tr>\n",
       "      <th>3</th>\n",
       "      <td>3</td>\n",
       "      <td>9988021</td>\n",
       "      <td>580560515_7732621733</td>\n",
       "      <td>781255054_21935453173_531117</td>\n",
       "      <td>step_3</td>\n",
       "      <td>2017-04-17 15:18:04</td>\n",
       "      <td>True</td>\n",
       "      <td>16.0</td>\n",
       "      <td>198.0</td>\n",
       "      <td>49.0</td>\n",
       "      <td>M</td>\n",
       "      <td>2.0</td>\n",
       "      <td>67454.65</td>\n",
       "      <td>3.0</td>\n",
       "      <td>6.0</td>\n",
       "      <td>Test</td>\n",
       "    </tr>\n",
       "    <tr>\n",
       "      <th>4</th>\n",
       "      <td>4</td>\n",
       "      <td>9988021</td>\n",
       "      <td>580560515_7732621733</td>\n",
       "      <td>781255054_21935453173_531117</td>\n",
       "      <td>step_2</td>\n",
       "      <td>2017-04-17 15:17:15</td>\n",
       "      <td>True</td>\n",
       "      <td>12.0</td>\n",
       "      <td>145.0</td>\n",
       "      <td>33.0</td>\n",
       "      <td>F</td>\n",
       "      <td>2.0</td>\n",
       "      <td>103671.75</td>\n",
       "      <td>0.0</td>\n",
       "      <td>3.0</td>\n",
       "      <td>Test</td>\n",
       "    </tr>\n",
       "  </tbody>\n",
       "</table>\n",
       "</div>"
      ],
      "text/plain": [
       "   Unnamed: 0  client_id            visitor_id                      visit_id  \\\n",
       "0           0    9988021  580560515_7732621733  781255054_21935453173_531117   \n",
       "1           1    9988021  580560515_7732621733  781255054_21935453173_531117   \n",
       "2           2    9988021  580560515_7732621733  781255054_21935453173_531117   \n",
       "3           3    9988021  580560515_7732621733  781255054_21935453173_531117   \n",
       "4           4    9988021  580560515_7732621733  781255054_21935453173_531117   \n",
       "\n",
       "  process_step            date_time  is_client  clnt_tenure_yr  \\\n",
       "0       step_2  2017-04-17 15:26:51       True             6.0   \n",
       "1       step_3  2017-04-17 15:19:22       True             7.0   \n",
       "2       step_2  2017-04-17 15:19:13       True             5.0   \n",
       "3       step_3  2017-04-17 15:18:04       True            16.0   \n",
       "4       step_2  2017-04-17 15:17:15       True            12.0   \n",
       "\n",
       "   clnt_tenure_mnth  clnt_age gendr  num_accts        bal  calls_6_mnth  \\\n",
       "0              73.0      60.5   NaN        2.0   45105.30           6.0   \n",
       "1              94.0      58.0   NaN        2.0  110860.30           6.0   \n",
       "2              64.0      32.0   NaN        2.0   52467.79           6.0   \n",
       "3             198.0      49.0     M        2.0   67454.65           3.0   \n",
       "4             145.0      33.0     F        2.0  103671.75           0.0   \n",
       "\n",
       "   logons_6_mnth variation  \n",
       "0            9.0      Test  \n",
       "1            9.0      Test  \n",
       "2            9.0      Test  \n",
       "3            6.0      Test  \n",
       "4            3.0      Test  "
      ]
     },
     "execution_count": 3,
     "metadata": {},
     "output_type": "execute_result"
    }
   ],
   "source": [
    "import pandas as pd\n",
    "full_merged=pd.read_csv('/Users/ahmadkhalilghamai/Desktop/IH-DA-Project02/my project csv files/full_merged.csv')\n",
    "full_merged.head()\n"
   ]
  },
  {
   "cell_type": "code",
   "execution_count": 5,
   "id": "4303bdb6-6683-41e8-b120-c4dd0aef7760",
   "metadata": {},
   "outputs": [],
   "source": [
    "# Make sure date_time is parsed properly (only needed if using time features later)\n",
    "full_merged['date_time'] = pd.to_datetime(full_merged['date_time'], errors='coerce')"
   ]
  },
  {
   "cell_type": "code",
   "execution_count": 7,
   "id": "3154b19e-93f3-4d1e-9a2d-53e5d3a80503",
   "metadata": {},
   "outputs": [],
   "source": [
    "# Determine final step name in funnel\n",
    "final_step = full_merged['process_step'].dropna().unique().tolist()[-1]"
   ]
  },
  {
   "cell_type": "code",
   "execution_count": 9,
   "id": "c59fb452-ca80-4d8b-b225-aa88ab3f2e15",
   "metadata": {},
   "outputs": [
    {
     "name": "stdout",
     "output_type": "stream",
     "text": [
      "      variation                      visit_id  completed\n",
      "0       Control  100030127_47967100085_936361      False\n",
      "1       Control  100037962_47432393712_705583      False\n",
      "2       Control  100057941_88477660212_944512      False\n",
      "3       Control   10006594_66157970412_679648       True\n",
      "4       Control  100071743_53464757454_616703      False\n",
      "...         ...                           ...        ...\n",
      "69320      Test  999960019_60838685252_926860      False\n",
      "69321      Test  999971096_28827267783_236076       True\n",
      "69322      Test  999976049_95772503197_182554       True\n",
      "69323      Test  999984454_18731538378_781808       True\n",
      "69324      Test  999988789_76411676596_272843      False\n",
      "\n",
      "[69325 rows x 3 columns]\n"
     ]
    }
   ],
   "source": [
    "# Group by variation and visit_id to find who completed the final step\n",
    "completed = (\n",
    "    full_merged.groupby(['variation', 'visit_id'])['process_step']\n",
    "    .apply(lambda steps: final_step in steps.values)\n",
    "    .reset_index(name='completed')\n",
    ")\n",
    "print(completed)"
   ]
  },
  {
   "cell_type": "code",
   "execution_count": 11,
   "id": "c7b7e61d-0f7d-4a88-88b1-039fafee2ce0",
   "metadata": {},
   "outputs": [
    {
     "name": "stdout",
     "output_type": "stream",
     "text": [
      "  variation  Total_Visits  Completion_Rate\n",
      "0   Control         32189         0.498493\n",
      "1      Test         37136         0.585173\n"
     ]
    }
   ],
   "source": [
    "# Compute total visits and completion rate per variation\n",
    "kpis_by_variation = (\n",
    "    completed.groupby('variation')['completed']\n",
    "    .agg(Total_Visits='count', Completion_Rate='mean')\n",
    "    .reset_index()\n",
    ")\n",
    "print(kpis_by_variation)"
   ]
  },
  {
   "cell_type": "code",
   "execution_count": 13,
   "id": "c0fe04e8-a08a-4f5d-a9c3-d7815e8dd1a0",
   "metadata": {},
   "outputs": [
    {
     "name": "stdout",
     "output_type": "stream",
     "text": [
      "  variation  Total_Visits  Completion_Rate  Error_Rate\n",
      "0   Control         32189         0.498493    0.501507\n",
      "1      Test         37136         0.585173    0.414827\n"
     ]
    }
   ],
   "source": [
    "kpis_by_variation['Error_Rate'] = 1 - kpis_by_variation['Completion_Rate']\n",
    "\n",
    "# Display results\n",
    "print(kpis_by_variation)"
   ]
  },
  {
   "cell_type": "code",
   "execution_count": 15,
   "id": "72cb44a3-ec1e-4f0e-9167-a47f954c7433",
   "metadata": {},
   "outputs": [
    {
     "name": "stderr",
     "output_type": "stream",
     "text": [
      "/var/folders/l4/g8j3y_vx0pq5tl_95dwxp9hr0000gp/T/ipykernel_23509/3472189074.py:11: FutureWarning: \n",
      "\n",
      "Passing `palette` without assigning `hue` is deprecated and will be removed in v0.14.0. Assign the `x` variable to `hue` and set `legend=False` for the same effect.\n",
      "\n",
      "  sns.barplot(x=\"variation\", y=\"Total_Visits\", data=kpis_by_variation, ax=axes[0], palette=\"Blues_d\")\n",
      "/var/folders/l4/g8j3y_vx0pq5tl_95dwxp9hr0000gp/T/ipykernel_23509/3472189074.py:16: FutureWarning: \n",
      "\n",
      "Passing `palette` without assigning `hue` is deprecated and will be removed in v0.14.0. Assign the `x` variable to `hue` and set `legend=False` for the same effect.\n",
      "\n",
      "  sns.barplot(x=\"variation\", y=\"Completion_Rate\", data=kpis_by_variation, ax=axes[1], palette=\"Greens_d\")\n",
      "/var/folders/l4/g8j3y_vx0pq5tl_95dwxp9hr0000gp/T/ipykernel_23509/3472189074.py:21: FutureWarning: \n",
      "\n",
      "Passing `palette` without assigning `hue` is deprecated and will be removed in v0.14.0. Assign the `x` variable to `hue` and set `legend=False` for the same effect.\n",
      "\n",
      "  sns.barplot(x=\"variation\", y=\"Error_Rate\", data=kpis_by_variation, ax=axes[2], palette=\"Reds_d\")\n"
     ]
    },
    {
     "data": {
      "image/png": "[encoded data removed]",
      "text/plain": [
       "<Figure size 1800x500 with 3 Axes>"
      ]
     },
     "metadata": {},
     "output_type": "display_data"
    }
   ],
   "source": [
    "import matplotlib.pyplot as plt\n",
    "import seaborn as sns\n",
    "\n",
    "# Set seaborn style\n",
    "sns.set(style=\"whitegrid\")\n",
    "\n",
    "# Create subplots\n",
    "fig, axes = plt.subplots(1, 3, figsize=(18, 5))\n",
    "\n",
    "# Plot Total Visits\n",
    "sns.barplot(x=\"variation\", y=\"Total_Visits\", data=kpis_by_variation, ax=axes[0], palette=\"Blues_d\")\n",
    "axes[0].set_title(\"Total Visits\")\n",
    "axes[0].set_ylabel(\"Count\")\n",
    "\n",
    "# Plot Completion Rate\n",
    "sns.barplot(x=\"variation\", y=\"Completion_Rate\", data=kpis_by_variation, ax=axes[1], palette=\"Greens_d\")\n",
    "axes[1].set_title(\"Completion Rate\")\n",
    "axes[1].set_ylabel(\"Rate\")\n",
    "\n",
    "# Plot Error Rate\n",
    "sns.barplot(x=\"variation\", y=\"Error_Rate\", data=kpis_by_variation, ax=axes[2], palette=\"Reds_d\")\n",
    "axes[2].set_title(\"Error Rate\")\n",
    "axes[2].set_ylabel(\"Rate\")\n",
    "\n",
    "# Show the plots\n",
    "plt.tight_layout()\n",
    "plt.show()\n",
    "\n",
    "\n"
   ]
  },
  {
   "cell_type": "code",
   "execution_count": null,
   "id": "d67c81d1-0ed8-4bc8-972c-f6cd56165d33",
   "metadata": {},
   "outputs": [],
   "source": []
  }
 ],
 "metadata": {
  "kernelspec": {
   "display_name": "Python 3 (ipykernel)",
   "language": "python",
   "name": "python3"
  },
  "language_info": {
   "codemirror_mode": {
    "name": "ipython",
    "version": 3
   },
   "file_extension": ".py",
   "mimetype": "text/x-python",
   "name": "python",
   "nbconvert_exporter": "python",
   "pygments_lexer": "ipython3",
   "version": "3.12.7"
  }
 },
 "nbformat": 4,
 "nbformat_minor": 5
}
