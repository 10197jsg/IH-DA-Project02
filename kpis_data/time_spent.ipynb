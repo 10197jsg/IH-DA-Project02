{
 "cells": [
  {
   "cell_type": "code",
   "execution_count": 14,
   "metadata": {},
   "outputs": [],
   "source": [
    "import pandas as pd\n",
    "import numpy as np"
   ]
  },
  {
   "cell_type": "code",
   "execution_count": 15,
   "metadata": {},
   "outputs": [
    {
     "name": "stderr",
     "output_type": "stream",
     "text": [
      "/var/folders/7_/wb06s1193t5fbc2j9sggjlj80000gn/T/ipykernel_47113/59176.py:2: DtypeWarning: Columns (13) have mixed types. Specify dtype option on import or set low_memory=False.\n",
      "  data_full = pd.read_csv('../merged_data/full_info_dataframe.csv', sep=\",\")\n"
     ]
    }
   ],
   "source": [
    "# load full_info_dataframe.csv\n",
    "data_full = pd.read_csv('../merged_data/full_info_dataframe.csv', sep=\",\")"
   ]
  },
  {
   "cell_type": "code",
   "execution_count": 20,
   "metadata": {},
   "outputs": [
    {
     "data": {
      "text/html": [
       "<div>\n",
       "<style scoped>\n",
       "    .dataframe tbody tr th:only-of-type {\n",
       "        vertical-align: middle;\n",
       "    }\n",
       "\n",
       "    .dataframe tbody tr th {\n",
       "        vertical-align: top;\n",
       "    }\n",
       "\n",
       "    .dataframe thead th {\n",
       "        text-align: right;\n",
       "    }\n",
       "</style>\n",
       "<table border=\"1\" class=\"dataframe\">\n",
       "  <thead>\n",
       "    <tr style=\"text-align: right;\">\n",
       "      <th></th>\n",
       "      <th>client_id</th>\n",
       "      <th>visitor_id</th>\n",
       "      <th>visit_id</th>\n",
       "      <th>process_step</th>\n",
       "      <th>date_time</th>\n",
       "      <th>clnt_tenure_yr</th>\n",
       "      <th>clnt_tenure_mnth</th>\n",
       "      <th>clnt_age</th>\n",
       "      <th>gendr</th>\n",
       "      <th>num_accts</th>\n",
       "      <th>bal</th>\n",
       "      <th>calls_6_mnth</th>\n",
       "      <th>logons_6_mnth</th>\n",
       "      <th>Variation</th>\n",
       "    </tr>\n",
       "  </thead>\n",
       "  <tbody>\n",
       "    <tr>\n",
       "      <th>0</th>\n",
       "      <td>9988021</td>\n",
       "      <td>580560515_7732621733</td>\n",
       "      <td>781255054_21935453173_531117</td>\n",
       "      <td>step_2</td>\n",
       "      <td>2017-04-17 15:26:51</td>\n",
       "      <td>5.0</td>\n",
       "      <td>64.0</td>\n",
       "      <td>79.0</td>\n",
       "      <td>NaN</td>\n",
       "      <td>2.0</td>\n",
       "      <td>189023.86</td>\n",
       "      <td>1.0</td>\n",
       "      <td>4.0</td>\n",
       "      <td>Test</td>\n",
       "    </tr>\n",
       "    <tr>\n",
       "      <th>1</th>\n",
       "      <td>9988021</td>\n",
       "      <td>580560515_7732621733</td>\n",
       "      <td>781255054_21935453173_531117</td>\n",
       "      <td>step_3</td>\n",
       "      <td>2017-04-17 15:19:22</td>\n",
       "      <td>5.0</td>\n",
       "      <td>64.0</td>\n",
       "      <td>79.0</td>\n",
       "      <td>NaN</td>\n",
       "      <td>2.0</td>\n",
       "      <td>189023.86</td>\n",
       "      <td>1.0</td>\n",
       "      <td>4.0</td>\n",
       "      <td>Test</td>\n",
       "    </tr>\n",
       "    <tr>\n",
       "      <th>2</th>\n",
       "      <td>9988021</td>\n",
       "      <td>580560515_7732621733</td>\n",
       "      <td>781255054_21935453173_531117</td>\n",
       "      <td>step_2</td>\n",
       "      <td>2017-04-17 15:19:13</td>\n",
       "      <td>5.0</td>\n",
       "      <td>64.0</td>\n",
       "      <td>79.0</td>\n",
       "      <td>NaN</td>\n",
       "      <td>2.0</td>\n",
       "      <td>189023.86</td>\n",
       "      <td>1.0</td>\n",
       "      <td>4.0</td>\n",
       "      <td>Test</td>\n",
       "    </tr>\n",
       "    <tr>\n",
       "      <th>3</th>\n",
       "      <td>9988021</td>\n",
       "      <td>580560515_7732621733</td>\n",
       "      <td>781255054_21935453173_531117</td>\n",
       "      <td>step_3</td>\n",
       "      <td>2017-04-17 15:18:04</td>\n",
       "      <td>5.0</td>\n",
       "      <td>64.0</td>\n",
       "      <td>79.0</td>\n",
       "      <td>NaN</td>\n",
       "      <td>2.0</td>\n",
       "      <td>189023.86</td>\n",
       "      <td>1.0</td>\n",
       "      <td>4.0</td>\n",
       "      <td>Test</td>\n",
       "    </tr>\n",
       "    <tr>\n",
       "      <th>4</th>\n",
       "      <td>9988021</td>\n",
       "      <td>580560515_7732621733</td>\n",
       "      <td>781255054_21935453173_531117</td>\n",
       "      <td>step_2</td>\n",
       "      <td>2017-04-17 15:17:15</td>\n",
       "      <td>5.0</td>\n",
       "      <td>64.0</td>\n",
       "      <td>79.0</td>\n",
       "      <td>NaN</td>\n",
       "      <td>2.0</td>\n",
       "      <td>189023.86</td>\n",
       "      <td>1.0</td>\n",
       "      <td>4.0</td>\n",
       "      <td>Test</td>\n",
       "    </tr>\n",
       "  </tbody>\n",
       "</table>\n",
       "</div>"
      ],
      "text/plain": [
       "   client_id            visitor_id                      visit_id process_step  \\\n",
       "0    9988021  580560515_7732621733  781255054_21935453173_531117       step_2   \n",
       "1    9988021  580560515_7732621733  781255054_21935453173_531117       step_3   \n",
       "2    9988021  580560515_7732621733  781255054_21935453173_531117       step_2   \n",
       "3    9988021  580560515_7732621733  781255054_21935453173_531117       step_3   \n",
       "4    9988021  580560515_7732621733  781255054_21935453173_531117       step_2   \n",
       "\n",
       "            date_time  clnt_tenure_yr  clnt_tenure_mnth  clnt_age gendr  \\\n",
       "0 2017-04-17 15:26:51             5.0              64.0      79.0   NaN   \n",
       "1 2017-04-17 15:19:22             5.0              64.0      79.0   NaN   \n",
       "2 2017-04-17 15:19:13             5.0              64.0      79.0   NaN   \n",
       "3 2017-04-17 15:18:04             5.0              64.0      79.0   NaN   \n",
       "4 2017-04-17 15:17:15             5.0              64.0      79.0   NaN   \n",
       "\n",
       "   num_accts        bal  calls_6_mnth  logons_6_mnth Variation  \n",
       "0        2.0  189023.86           1.0            4.0      Test  \n",
       "1        2.0  189023.86           1.0            4.0      Test  \n",
       "2        2.0  189023.86           1.0            4.0      Test  \n",
       "3        2.0  189023.86           1.0            4.0      Test  \n",
       "4        2.0  189023.86           1.0            4.0      Test  "
      ]
     },
     "execution_count": 20,
     "metadata": {},
     "output_type": "execute_result"
    }
   ],
   "source": [
    "data_full.head()"
   ]
  },
  {
   "cell_type": "code",
   "execution_count": 16,
   "metadata": {},
   "outputs": [
    {
     "data": {
      "text/plain": [
       "array(['Test', 'Control', nan], dtype=object)"
      ]
     },
     "execution_count": 16,
     "metadata": {},
     "output_type": "execute_result"
    }
   ],
   "source": [
    "data_full['Variation'].unique()"
   ]
  },
  {
   "cell_type": "code",
   "execution_count": 17,
   "metadata": {},
   "outputs": [
    {
     "data": {
      "text/plain": [
       "array(['step_2', 'step_3', 'step_1', 'start', 'confirm'], dtype=object)"
      ]
     },
     "execution_count": 17,
     "metadata": {},
     "output_type": "execute_result"
    }
   ],
   "source": [
    "data_full['process_step'].unique()"
   ]
  },
  {
   "cell_type": "code",
   "execution_count": 18,
   "metadata": {},
   "outputs": [],
   "source": [
    "# Remove rows where 'Variation' is NaN (we only want 'Test' and 'Control' users)\n",
    "data_full = data_full.dropna(subset=['Variation'])"
   ]
  },
  {
   "cell_type": "code",
   "execution_count": 19,
   "metadata": {},
   "outputs": [],
   "source": [
    "# Convert the 'date_time' column to datetime format for time calculations\n",
    "data_full['date_time'] = pd.to_datetime(data_full['date_time'])"
   ]
  },
  {
   "cell_type": "code",
   "execution_count": 21,
   "metadata": {},
   "outputs": [],
   "source": [
    "# Sort the data by user and timestamp to ensure correct time difference calculations\n",
    "data_sorted = data_full.sort_values(by=['visitor_id', 'visit_id', 'date_time'])"
   ]
  },
  {
   "cell_type": "code",
   "execution_count": 22,
   "metadata": {},
   "outputs": [],
   "source": [
    "# Calculate the time difference between each step and the next step within each visit\n",
    "# This gives the time spent on the current step before moving to the next one\n",
    "data_sorted['time_diff'] = data_sorted.groupby(['visitor_id', 'visit_id'])['date_time'].diff().shift(-1)"
   ]
  },
  {
   "cell_type": "code",
   "execution_count": 23,
   "metadata": {},
   "outputs": [],
   "source": [
    "# Separate the data into Test and Control groups\n",
    "df_test = data_sorted[data_sorted['Variation'] == 'Test']\n",
    "df_control = data_sorted[data_sorted['Variation'] == 'Control']"
   ]
  },
  {
   "cell_type": "code",
   "execution_count": 26,
   "metadata": {},
   "outputs": [],
   "source": [
    "# Group by process_step and calculate the average time spent on each step (for Test group)\n",
    "avg_time_test = df_test.groupby('process_step')['time_diff'].mean()"
   ]
  },
  {
   "cell_type": "code",
   "execution_count": null,
   "metadata": {},
   "outputs": [],
   "source": [
    "# Group by process_step and calculate the average time spent on each step (for Control group)\n",
    "avg_time_control = df_control.groupby('process_step')['time_diff'].mean()"
   ]
  },
  {
   "cell_type": "code",
   "execution_count": 27,
   "metadata": {},
   "outputs": [],
   "source": [
    "# Function to format timedelta into MM:SS\n",
    "def format_timedelta(td):\n",
    "    if pd.isnull(td):\n",
    "        return None\n",
    "    total_seconds = int(td.total_seconds())\n",
    "    minutes, seconds = divmod(total_seconds, 60)\n",
    "    return f\"{minutes:02}:{seconds:02}\"\n",
    "\n",
    "\n",
    "# Apply formatting to both groups\n",
    "avg_time_test_formatted = avg_time_test.apply(format_timedelta)\n",
    "avg_time_control_formatted = avg_time_control.apply(format_timedelta)"
   ]
  },
  {
   "cell_type": "code",
   "execution_count": 28,
   "metadata": {},
   "outputs": [
    {
     "name": "stdout",
     "output_type": "stream",
     "text": [
      "Average time spent on each step (Test group):\n",
      "process_step\n",
      "confirm   0 days 00:04:10.566239316\n",
      "start     0 days 00:01:01.454594512\n",
      "step_1    0 days 00:01:00.756987249\n",
      "step_2    0 days 00:01:28.878579881\n",
      "step_3    0 days 00:02:09.607488325\n",
      "Name: time_diff, dtype: timedelta64[ns]\n",
      "\n",
      "Average time spent on each step (Control group):\n",
      "process_step\n",
      "confirm   0 days 00:03:00.146050670\n",
      "start     0 days 00:01:06.804756575\n",
      "step_1    0 days 00:00:50.535582680\n",
      "step_2    0 days 00:01:32.043222569\n",
      "step_3    0 days 00:02:17.224495833\n",
      "Name: time_diff, dtype: timedelta64[ns]\n"
     ]
    }
   ],
   "source": [
    "# Show the results\n",
    "print(\"Average time spent on each step (Test group):\")\n",
    "print(avg_time_test)\n",
    "\n",
    "print(\"\\nAverage time spent on each step (Control group):\")\n",
    "print(avg_time_control)"
   ]
  },
  {
   "cell_type": "code",
   "execution_count": 29,
   "metadata": {},
   "outputs": [
    {
     "name": "stdout",
     "output_type": "stream",
     "text": [
      "Average time spent on each step (Test group):\n",
      "process_step\n",
      "confirm    04:10\n",
      "start      01:01\n",
      "step_1     01:00\n",
      "step_2     01:28\n",
      "step_3     02:09\n",
      "Name: time_diff, dtype: object\n",
      "\n",
      "Average time spent on each step (Control group):\n",
      "process_step\n",
      "confirm    03:00\n",
      "start      01:06\n",
      "step_1     00:50\n",
      "step_2     01:32\n",
      "step_3     02:17\n",
      "Name: time_diff, dtype: object\n"
     ]
    }
   ],
   "source": [
    "# Display the results\n",
    "print(\"Average time spent on each step (Test group):\")\n",
    "print(avg_time_test_formatted)\n",
    "\n",
    "print(\"\\nAverage time spent on each step (Control group):\")\n",
    "print(avg_time_control_formatted)"
   ]
  },
  {
   "cell_type": "code",
   "execution_count": 30,
   "metadata": {},
   "outputs": [
    {
     "data": {
      "image/png": "[encoded data removed]",
      "text/plain": [
       "<Figure size 1000x600 with 1 Axes>"
      ]
     },
     "metadata": {},
     "output_type": "display_data"
    }
   ],
   "source": [
    "import seaborn as sns\n",
    "import matplotlib.pyplot as plt\n",
    "\n",
    "# Combine both series into a DataFrame for plotting\n",
    "# First, convert the timedelta to total seconds for easier plotting\n",
    "avg_time_df = pd.DataFrame({\n",
    "    'Test': avg_time_test.dt.total_seconds(),\n",
    "    'Control': avg_time_control.dt.total_seconds()\n",
    "})\n",
    "\n",
    "# Reset index to get 'process_step' as a column\n",
    "avg_time_df = avg_time_df.reset_index()\n",
    "\n",
    "# Melt the DataFrame to long format for Seaborn\n",
    "avg_time_melted = avg_time_df.melt(id_vars='process_step', var_name='Variation', value_name='Seconds')\n",
    "\n",
    "# Plot using Seaborn\n",
    "plt.figure(figsize=(10, 6))\n",
    "sns.barplot(data=avg_time_melted, x='process_step', y='Seconds', hue='Variation', palette='Set2')\n",
    "\n",
    "# Add labels and title\n",
    "plt.title('Average Time Spent per Step (in seconds)', fontsize=14)\n",
    "plt.ylabel('Average Time (seconds)')\n",
    "plt.xlabel('Process Step')\n",
    "\n",
    "# Optional: Add time labels on top of each bar\n",
    "for index, row in avg_time_melted.iterrows():\n",
    "    minutes = int(row['Seconds'] // 60)\n",
    "    seconds = int(row['Seconds'] % 60)\n",
    "    label = f\"{minutes}:{seconds:02}\"\n",
    "    plt.text(\n",
    "        x=index % len(avg_time_df['process_step'].unique()),  # position x\n",
    "        y=row['Seconds'] + 5,  # position y (slightly above the bar)\n",
    "        s=label,\n",
    "        ha='center',\n",
    "        va='bottom',\n",
    "        fontsize=9\n",
    "    )\n",
    "\n",
    "plt.tight_layout()\n",
    "plt.show()"
   ]
  },
  {
   "cell_type": "code",
   "execution_count": null,
   "metadata": {},
   "outputs": [],
   "source": []
  }
 ],
 "metadata": {
  "kernelspec": {
   "display_name": "Python 3",
   "language": "python",
   "name": "python3"
  },
  "language_info": {
   "codemirror_mode": {
    "name": "ipython",
    "version": 3
   },
   "file_extension": ".py",
   "mimetype": "text/x-python",
   "name": "python",
   "nbconvert_exporter": "python",
   "pygments_lexer": "ipython3",
   "version": "3.8.5"
  }
 },
 "nbformat": 4,
 "nbformat_minor": 2
}
