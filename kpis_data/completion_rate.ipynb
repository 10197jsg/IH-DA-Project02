{
 "cells": [
  {
   "cell_type": "code",
   "execution_count": null,
   "metadata": {},
   "outputs": [],
   "source": [
    "import pandas as pd\n",
    "\n",
    "# Load your data (adjust path if needed)\n",
    "data_full = pd.read_csv('../merged_data/full_info_dataframe.csv', sep=\",\")"
   ]
  },
  {
   "cell_type": "code",
   "execution_count": 8,
   "metadata": {},
   "outputs": [
    {
     "name": "stdout",
     "output_type": "stream",
     "text": [
      "Variation\n",
      "Control    15566\n",
      "Test       19505\n",
      "Name: visitor_id, dtype: int64\n"
     ]
    }
   ],
   "source": [
    "# Filter to only rows where process_step is 'confirm'\n",
    "confirm_visits = data_full[data_full['process_step'] == 'confirm']\n",
    "\n",
    "# Drop duplicates to ensure each visitor is counted once\n",
    "confirm_unique_visitors = confirm_visits[['visitor_id', 'Variation']].drop_duplicates()\n",
    "\n",
    "# Group by Variation and count\n",
    "finished_counts = confirm_unique_visitors.groupby('Variation')['visitor_id'].nunique()\n",
    "\n",
    "print(finished_counts)"
   ]
  }
 ],
 "metadata": {
  "kernelspec": {
   "display_name": "Python [conda env:base] *",
   "language": "python",
   "name": "conda-base-py"
  },
  "language_info": {
   "codemirror_mode": {
    "name": "ipython",
    "version": 3
   },
   "file_extension": ".py",
   "mimetype": "text/x-python",
   "name": "python",
   "nbconvert_exporter": "python",
   "pygments_lexer": "ipython3",
   "version": "3.12.7"
  }
 },
 "nbformat": 4,
 "nbformat_minor": 4
}
