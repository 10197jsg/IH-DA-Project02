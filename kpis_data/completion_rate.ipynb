{
 "cells": [
  {
   "cell_type": "code",
   "execution_count": null,
   "metadata": {},
   "outputs": [],
   "source": [
    "import pandas as pd\n",
    "\n",
    "# Load your data (adjust path if needed)\n",
    "data = pd.read_csv('C:/Users/Beheerder/Desktop/IH-DA-Project02/data/merged_data_webdata.csv', parse_dates=['date_time'])\n",
    "\n",
    "# Preview it\n",
    "print(data.head())\n"
   ]
  },
  {
   "cell_type": "code",
   "execution_count": 13,
   "metadata": {},
   "outputs": [
    {
     "data": {
      "text/plain": [
       "['client_id', 'visitor_id', 'visit_id', 'process_step', 'date_time']"
      ]
     },
     "execution_count": 13,
     "metadata": {},
     "output_type": "execute_result"
    }
   ],
   "source": [
    "[\"client_id\", \"visitor_id\", \"visit_id\", \"process_step\", \"date_time\"]\n"
   ]
  },
  {
   "cell_type": "code",
   "execution_count": 15,
   "metadata": {},
   "outputs": [
    {
     "name": "stdout",
     "output_type": "stream",
     "text": [
      "Completion Rate: 68.15%\n"
     ]
    }
   ],
   "source": [
    "final_step = data['process_step'].max()\n",
    "\n",
    "# Unique sessions\n",
    "total_sessions = data['visit_id'].nunique()\n",
    "\n",
    "# Sessions that reached the final step\n",
    "completed_sessions = data[data['process_step'] == final_step]['visit_id'].nunique()\n",
    "\n",
    "# Completion Rate\n",
    "completion_rate = (completed_sessions / total_sessions) * 100\n",
    "print(f\"Completion Rate: {completion_rate:.2f}%\")\n"
   ]
  },
  {
   "cell_type": "code",
   "execution_count": null,
   "metadata": {},
   "outputs": [],
   "source": []
  }
 ],
 "metadata": {
  "kernelspec": {
   "display_name": "Python [conda env:base] *",
   "language": "python",
   "name": "conda-base-py"
  },
  "language_info": {
   "codemirror_mode": {
    "name": "ipython",
    "version": 3
   },
   "file_extension": ".py",
   "mimetype": "text/x-python",
   "name": "python",
   "nbconvert_exporter": "python",
   "pygments_lexer": "ipython3",
   "version": "3.12.7"
  }
 },
 "nbformat": 4,
 "nbformat_minor": 4
}
