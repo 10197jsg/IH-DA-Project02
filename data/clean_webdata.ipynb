{
 "cells": [
  {
   "cell_type": "code",
   "execution_count": 354,
   "metadata": {},
   "outputs": [],
   "source": [
    "import pandas as pd\n",
    "import numpy as np\n",
    "import os"
   ]
  },
  {
   "cell_type": "markdown",
   "metadata": {},
   "source": [
    "## DF Final Web Data"
   ]
  },
  {
   "cell_type": "code",
   "execution_count": 70,
   "metadata": {},
   "outputs": [
    {
     "name": "stdout",
     "output_type": "stream",
     "text": [
      "  client_id,visitor_id,visit_id,process_step,date_time\n",
      "0  9988021,580560515_7732621733,781255054_2193545...  \n",
      "1  9988021,580560515_7732621733,781255054_2193545...  \n",
      "2  9988021,580560515_7732621733,781255054_2193545...  \n",
      "3  9988021,580560515_7732621733,781255054_2193545...  \n",
      "4  9988021,580560515_7732621733,781255054_2193545...  \n",
      "Index(['client_id,visitor_id,visit_id,process_step,date_time'], dtype='object')\n"
     ]
    }
   ],
   "source": [
    "# load df_final_web_data_pt_1.txt\n",
    "\n",
    "data_webdata1 = pd.read_csv('C:/Users/Beheerder/Desktop/IronHack/project2/IH-DA-Project02/data/df_final_web_data_pt1.csv', sep='\\t') \n",
    "print(data_webdata1.head())\n",
    "print(data_webdata1.columns) "
   ]
  },
  {
   "cell_type": "code",
   "execution_count": 358,
   "metadata": {},
   "outputs": [
    {
     "name": "stdout",
     "output_type": "stream",
     "text": [
      "  client_id            visitor_id                      visit_id process_step  \\\n",
      "0   9988021  580560515_7732621733  781255054_21935453173_531117       step_3   \n",
      "1   9988021  580560515_7732621733  781255054_21935453173_531117       step_2   \n",
      "2   9988021  580560515_7732621733  781255054_21935453173_531117       step_3   \n",
      "3   9988021  580560515_7732621733  781255054_21935453173_531117       step_2   \n",
      "4   9988021  580560515_7732621733  781255054_21935453173_531117       step_3   \n",
      "\n",
      "         date_time  \n",
      "0  4/17/2017 15:27  \n",
      "1  4/17/2017 15:26  \n",
      "2  4/17/2017 15:19  \n",
      "3  4/17/2017 15:19  \n",
      "4  4/17/2017 15:18  \n"
     ]
    }
   ],
   "source": [
    "# Assuming your column is unnamed or called 'client_id,visitor_id,visit_id,process_step,date_time'\n",
    "data_webdata1 = data_webdata1.iloc[:, 0].str.split(',', expand=True)\n",
    "\n",
    "# Rename the columns\n",
    "data_webdata1.columns = [\"client_id\", \"visitor_id\", \"visit_id\", \"process_step\", \"date_time\"]\n",
    "\n",
    "# Check\n",
    "print(data_webdata1.head())\n",
    "\n"
   ]
  },
  {
   "cell_type": "code",
   "execution_count": 360,
   "metadata": {},
   "outputs": [
    {
     "data": {
      "text/html": [
       "<div>\n",
       "<style scoped>\n",
       "    .dataframe tbody tr th:only-of-type {\n",
       "        vertical-align: middle;\n",
       "    }\n",
       "\n",
       "    .dataframe tbody tr th {\n",
       "        vertical-align: top;\n",
       "    }\n",
       "\n",
       "    .dataframe thead th {\n",
       "        text-align: right;\n",
       "    }\n",
       "</style>\n",
       "<table border=\"1\" class=\"dataframe\">\n",
       "  <thead>\n",
       "    <tr style=\"text-align: right;\">\n",
       "      <th></th>\n",
       "      <th>client_id</th>\n",
       "      <th>visitor_id</th>\n",
       "      <th>visit_id</th>\n",
       "      <th>process_step</th>\n",
       "      <th>date_time</th>\n",
       "    </tr>\n",
       "  </thead>\n",
       "  <tbody>\n",
       "    <tr>\n",
       "      <th>1</th>\n",
       "      <td>9988021</td>\n",
       "      <td>580560515_7732621733</td>\n",
       "      <td>781255054_21935453173_531117</td>\n",
       "      <td>step_2</td>\n",
       "      <td>4/17/2017 15:26</td>\n",
       "    </tr>\n",
       "    <tr>\n",
       "      <th>2</th>\n",
       "      <td>9988021</td>\n",
       "      <td>580560515_7732621733</td>\n",
       "      <td>781255054_21935453173_531117</td>\n",
       "      <td>step_3</td>\n",
       "      <td>4/17/2017 15:19</td>\n",
       "    </tr>\n",
       "    <tr>\n",
       "      <th>3</th>\n",
       "      <td>9988021</td>\n",
       "      <td>580560515_7732621733</td>\n",
       "      <td>781255054_21935453173_531117</td>\n",
       "      <td>step_2</td>\n",
       "      <td>4/17/2017 15:19</td>\n",
       "    </tr>\n",
       "    <tr>\n",
       "      <th>4</th>\n",
       "      <td>9988021</td>\n",
       "      <td>580560515_7732621733</td>\n",
       "      <td>781255054_21935453173_531117</td>\n",
       "      <td>step_3</td>\n",
       "      <td>4/17/2017 15:18</td>\n",
       "    </tr>\n",
       "    <tr>\n",
       "      <th>5</th>\n",
       "      <td>9988021</td>\n",
       "      <td>580560515_7732621733</td>\n",
       "      <td>781255054_21935453173_531117</td>\n",
       "      <td>step_2</td>\n",
       "      <td>4/17/2017 15:17</td>\n",
       "    </tr>\n",
       "    <tr>\n",
       "      <th>...</th>\n",
       "      <td>...</td>\n",
       "      <td>...</td>\n",
       "      <td>...</td>\n",
       "      <td>...</td>\n",
       "      <td>...</td>\n",
       "    </tr>\n",
       "    <tr>\n",
       "      <th>343136</th>\n",
       "      <td>2443347</td>\n",
       "      <td>465784886_73090545671</td>\n",
       "      <td>136329900_10529659391_316129</td>\n",
       "      <td>confirm</td>\n",
       "      <td>3/31/2017 15:15</td>\n",
       "    </tr>\n",
       "    <tr>\n",
       "      <th>343137</th>\n",
       "      <td>2443347</td>\n",
       "      <td>465784886_73090545671</td>\n",
       "      <td>136329900_10529659391_316129</td>\n",
       "      <td>step_3</td>\n",
       "      <td>3/31/2017 15:14</td>\n",
       "    </tr>\n",
       "    <tr>\n",
       "      <th>343138</th>\n",
       "      <td>2443347</td>\n",
       "      <td>465784886_73090545671</td>\n",
       "      <td>136329900_10529659391_316129</td>\n",
       "      <td>step_2</td>\n",
       "      <td>3/31/2017 15:12</td>\n",
       "    </tr>\n",
       "    <tr>\n",
       "      <th>343139</th>\n",
       "      <td>2443347</td>\n",
       "      <td>465784886_73090545671</td>\n",
       "      <td>136329900_10529659391_316129</td>\n",
       "      <td>step_1</td>\n",
       "      <td>3/31/2017 15:11</td>\n",
       "    </tr>\n",
       "    <tr>\n",
       "      <th>343140</th>\n",
       "      <td>2443347</td>\n",
       "      <td>465784886_73090545671</td>\n",
       "      <td>136329900_10529659391_316129</td>\n",
       "      <td>start</td>\n",
       "      <td>3/31/2017 15:10</td>\n",
       "    </tr>\n",
       "  </tbody>\n",
       "</table>\n",
       "<p>343140 rows × 5 columns</p>\n",
       "</div>"
      ],
      "text/plain": [
       "       client_id             visitor_id                      visit_id  \\\n",
       "1        9988021   580560515_7732621733  781255054_21935453173_531117   \n",
       "2        9988021   580560515_7732621733  781255054_21935453173_531117   \n",
       "3        9988021   580560515_7732621733  781255054_21935453173_531117   \n",
       "4        9988021   580560515_7732621733  781255054_21935453173_531117   \n",
       "5        9988021   580560515_7732621733  781255054_21935453173_531117   \n",
       "...          ...                    ...                           ...   \n",
       "343136   2443347  465784886_73090545671  136329900_10529659391_316129   \n",
       "343137   2443347  465784886_73090545671  136329900_10529659391_316129   \n",
       "343138   2443347  465784886_73090545671  136329900_10529659391_316129   \n",
       "343139   2443347  465784886_73090545671  136329900_10529659391_316129   \n",
       "343140   2443347  465784886_73090545671  136329900_10529659391_316129   \n",
       "\n",
       "       process_step        date_time  \n",
       "1            step_2  4/17/2017 15:26  \n",
       "2            step_3  4/17/2017 15:19  \n",
       "3            step_2  4/17/2017 15:19  \n",
       "4            step_3  4/17/2017 15:18  \n",
       "5            step_2  4/17/2017 15:17  \n",
       "...             ...              ...  \n",
       "343136      confirm  3/31/2017 15:15  \n",
       "343137       step_3  3/31/2017 15:14  \n",
       "343138       step_2  3/31/2017 15:12  \n",
       "343139       step_1  3/31/2017 15:11  \n",
       "343140        start  3/31/2017 15:10  \n",
       "\n",
       "[343140 rows x 5 columns]"
      ]
     },
     "execution_count": 360,
     "metadata": {},
     "output_type": "execute_result"
    }
   ],
   "source": [
    "# drop first row\n",
    "data_webdata1 = data_webdata1.drop(index=0)\n",
    "data_webdata1"
   ]
  },
  {
   "cell_type": "code",
   "execution_count": 362,
   "metadata": {},
   "outputs": [
    {
     "data": {
      "text/plain": [
       "(343140, 5)"
      ]
     },
     "execution_count": 362,
     "metadata": {},
     "output_type": "execute_result"
    }
   ],
   "source": [
    "# retrieving the number of rwos and columns in the dataframe \n",
    "data_webdata1.shape"
   ]
  },
  {
   "cell_type": "code",
   "execution_count": 364,
   "metadata": {},
   "outputs": [
    {
     "data": {
      "text/plain": [
       "client_id       object\n",
       "visitor_id      object\n",
       "visit_id        object\n",
       "process_step    object\n",
       "date_time       object\n",
       "dtype: object"
      ]
     },
     "execution_count": 364,
     "metadata": {},
     "output_type": "execute_result"
    }
   ],
   "source": [
    "# displaying the data types of each column in the dataframe\n",
    "data_webdata1.dtypes"
   ]
  },
  {
   "cell_type": "code",
   "execution_count": 366,
   "metadata": {},
   "outputs": [
    {
     "data": {
      "text/plain": [
       "[dtype('O')]"
      ]
     },
     "execution_count": 366,
     "metadata": {},
     "output_type": "execute_result"
    }
   ],
   "source": [
    "# retrieving the unique data types present in the dataframe columns\n",
    "list(set(data_webdata1.dtypes.tolist()))"
   ]
  },
  {
   "cell_type": "code",
   "execution_count": 368,
   "metadata": {},
   "outputs": [
    {
     "name": "stdout",
     "output_type": "stream",
     "text": [
      "float64\n",
      "[ 2.  3.  1. nan]\n"
     ]
    }
   ],
   "source": [
    "data_webdata1[\"process_step\"] = data_webdata1[\"process_step\"].astype(str).str.extract(r'(\\d+)').astype(float)\n",
    "print(data_webdata1[\"process_step\"].dtype)\n",
    "print(data_webdata1[\"process_step\"].unique())\n"
   ]
  },
  {
   "cell_type": "code",
   "execution_count": 370,
   "metadata": {},
   "outputs": [],
   "source": [
    "data_webdata1[\"process_step\"] = data_webdata1[\"process_step\"].astype(str).str.extract(r'(\\d+)').astype(float)\n"
   ]
  },
  {
   "cell_type": "code",
   "execution_count": 372,
   "metadata": {},
   "outputs": [
    {
     "data": {
      "text/html": [
       "<div>\n",
       "<style scoped>\n",
       "    .dataframe tbody tr th:only-of-type {\n",
       "        vertical-align: middle;\n",
       "    }\n",
       "\n",
       "    .dataframe tbody tr th {\n",
       "        vertical-align: top;\n",
       "    }\n",
       "\n",
       "    .dataframe thead th {\n",
       "        text-align: right;\n",
       "    }\n",
       "</style>\n",
       "<table border=\"1\" class=\"dataframe\">\n",
       "  <thead>\n",
       "    <tr style=\"text-align: right;\">\n",
       "      <th></th>\n",
       "      <th>client_id</th>\n",
       "      <th>visitor_id</th>\n",
       "      <th>visit_id</th>\n",
       "      <th>process_step</th>\n",
       "      <th>date_time</th>\n",
       "    </tr>\n",
       "  </thead>\n",
       "  <tbody>\n",
       "    <tr>\n",
       "      <th>1</th>\n",
       "      <td>9988021</td>\n",
       "      <td>580560515_7732621733</td>\n",
       "      <td>781255054_21935453173_531117</td>\n",
       "      <td>2.0</td>\n",
       "      <td>2017-04-17 15:26:00</td>\n",
       "    </tr>\n",
       "    <tr>\n",
       "      <th>2</th>\n",
       "      <td>9988021</td>\n",
       "      <td>580560515_7732621733</td>\n",
       "      <td>781255054_21935453173_531117</td>\n",
       "      <td>3.0</td>\n",
       "      <td>2017-04-17 15:19:00</td>\n",
       "    </tr>\n",
       "    <tr>\n",
       "      <th>3</th>\n",
       "      <td>9988021</td>\n",
       "      <td>580560515_7732621733</td>\n",
       "      <td>781255054_21935453173_531117</td>\n",
       "      <td>2.0</td>\n",
       "      <td>2017-04-17 15:19:00</td>\n",
       "    </tr>\n",
       "    <tr>\n",
       "      <th>4</th>\n",
       "      <td>9988021</td>\n",
       "      <td>580560515_7732621733</td>\n",
       "      <td>781255054_21935453173_531117</td>\n",
       "      <td>3.0</td>\n",
       "      <td>2017-04-17 15:18:00</td>\n",
       "    </tr>\n",
       "    <tr>\n",
       "      <th>5</th>\n",
       "      <td>9988021</td>\n",
       "      <td>580560515_7732621733</td>\n",
       "      <td>781255054_21935453173_531117</td>\n",
       "      <td>2.0</td>\n",
       "      <td>2017-04-17 15:17:00</td>\n",
       "    </tr>\n",
       "  </tbody>\n",
       "</table>\n",
       "</div>"
      ],
      "text/plain": [
       "  client_id            visitor_id                      visit_id  process_step  \\\n",
       "1   9988021  580560515_7732621733  781255054_21935453173_531117           2.0   \n",
       "2   9988021  580560515_7732621733  781255054_21935453173_531117           3.0   \n",
       "3   9988021  580560515_7732621733  781255054_21935453173_531117           2.0   \n",
       "4   9988021  580560515_7732621733  781255054_21935453173_531117           3.0   \n",
       "5   9988021  580560515_7732621733  781255054_21935453173_531117           2.0   \n",
       "\n",
       "            date_time  \n",
       "1 2017-04-17 15:26:00  \n",
       "2 2017-04-17 15:19:00  \n",
       "3 2017-04-17 15:19:00  \n",
       "4 2017-04-17 15:18:00  \n",
       "5 2017-04-17 15:17:00  "
      ]
     },
     "execution_count": 372,
     "metadata": {},
     "output_type": "execute_result"
    }
   ],
   "source": [
    "# Fixing data types in the dataframe data_webdata1\n",
    "data_webdata1[\"client_id\"] = data_webdata1[\"client_id\"].astype(str)\n",
    "data_webdata1[\"visitor_id\"] = data_webdata1[\"visitor_id\"].astype(str)\n",
    "data_webdata1[\"visit_id\"] = data_webdata1[\"visit_id\"].astype(str)\n",
    "data_webdata1[\"process_step\"] = data_webdata1[\"process_step\"].astype(str).str.extract(r'(\\d+)').astype(float)\n",
    "data_webdata1[\"date_time\"] = pd.to_datetime(data_webdata1[\"date_time\"])\n",
    "\n",
    "# Add this to display the cleaned dataframe\n",
    "data_webdata1.head()\n"
   ]
  },
  {
   "cell_type": "code",
   "execution_count": 300,
   "metadata": {},
   "outputs": [
    {
     "name": "stdout",
     "output_type": "stream",
     "text": [
      "client_id            0\n",
      "visitor_id           0\n",
      "visit_id             0\n",
      "process_step    154313\n",
      "date_time            0\n",
      "dtype: int64\n"
     ]
    }
   ],
   "source": [
    "print(data_webdata1.isnull().sum())\n"
   ]
  },
  {
   "cell_type": "code",
   "execution_count": 302,
   "metadata": {},
   "outputs": [
    {
     "name": "stdout",
     "output_type": "stream",
     "text": [
      "[ 2.  3.  1. nan]\n"
     ]
    }
   ],
   "source": [
    "print(data_webdata1[\"process_step\"].unique())\n"
   ]
  },
  {
   "cell_type": "code",
   "execution_count": 304,
   "metadata": {},
   "outputs": [
    {
     "name": "stdout",
     "output_type": "stream",
     "text": [
      "   client_id             visitor_id                      visit_id  \\\n",
      "7    9988021   580560515_7732621733  781255054_21935453173_531117   \n",
      "8    8320017   39393514_33118319366  960651974_70596002104_312201   \n",
      "12   8320017   39393514_33118319366  960651974_70596002104_312201   \n",
      "13   4033851  762728880_76361333336  949661017_22392791362_127391   \n",
      "14   4033851  762728880_76361333336  949661017_22392791362_127391   \n",
      "\n",
      "    process_step           date_time  \n",
      "7            NaN 2017-04-17 15:16:00  \n",
      "8            NaN 2017-04-05 13:10:00  \n",
      "12           NaN 2017-04-05 13:08:00  \n",
      "13           NaN 2017-04-05 12:29:00  \n",
      "14           NaN 2017-04-05 12:29:00  \n"
     ]
    }
   ],
   "source": [
    "print(data_webdata1[data_webdata1[\"process_step\"].isnull()].head())\n",
    "\n"
   ]
  },
  {
   "cell_type": "code",
   "execution_count": 374,
   "metadata": {},
   "outputs": [
    {
     "name": "stdout",
     "output_type": "stream",
     "text": [
      "   client_id             visitor_id                      visit_id  \\\n",
      "7    9988021   580560515_7732621733  781255054_21935453173_531117   \n",
      "8    8320017   39393514_33118319366  960651974_70596002104_312201   \n",
      "12   8320017   39393514_33118319366  960651974_70596002104_312201   \n",
      "13   4033851  762728880_76361333336  949661017_22392791362_127391   \n",
      "14   4033851  762728880_76361333336  949661017_22392791362_127391   \n",
      "\n",
      "    process_step           date_time  \n",
      "7            NaN 2017-04-17 15:16:00  \n",
      "8            NaN 2017-04-05 13:10:00  \n",
      "12           NaN 2017-04-05 13:08:00  \n",
      "13           NaN 2017-04-05 12:29:00  \n",
      "14           NaN 2017-04-05 12:29:00  \n"
     ]
    }
   ],
   "source": [
    "# explore first \n",
    "print(data_webdata1[data_webdata1[\"process_step\"].isnull()].head())\n"
   ]
  },
  {
   "cell_type": "code",
   "execution_count": 378,
   "metadata": {},
   "outputs": [],
   "source": [
    "# drop missing values \n",
    "data_webdata1 = data_webdata1.dropna(subset=[\"process_step\"])\n"
   ]
  },
  {
   "cell_type": "code",
   "execution_count": 384,
   "metadata": {},
   "outputs": [
    {
     "name": "stdout",
     "output_type": "stream",
     "text": [
      "['580560515_7732621733' '39393514_33118319366' '762728880_76361333336' ...\n",
      " '897419406_91053100530' '140157234_42535034872' '465784886_73090545671']\n"
     ]
    }
   ],
   "source": [
    "# visitor_id is a combination of two numbers separated by an underscore ( do we need to separat or use it as it is ?)\n",
    "print(data_webdata1[\"visitor_id\"].unique())"
   ]
  },
  {
   "cell_type": "code",
   "execution_count": 382,
   "metadata": {},
   "outputs": [
    {
     "name": "stdout",
     "output_type": "stream",
     "text": [
      "Empty DataFrame\n",
      "Columns: [client_id, visitor_id, visit_id, process_step, date_time]\n",
      "Index: []\n"
     ]
    }
   ],
   "source": [
    "# check the rows where process_step is missing \n",
    "print(data_webdata1[data_webdata1[\"process_step\"].isnull()].head(10))\n",
    "\n"
   ]
  },
  {
   "cell_type": "code",
   "execution_count": 218,
   "metadata": {},
   "outputs": [
    {
     "data": {
      "text/plain": [
       "Index(['process_step'], dtype='object')"
      ]
     },
     "execution_count": 218,
     "metadata": {},
     "output_type": "execute_result"
    }
   ],
   "source": [
    "# extracting column names with numerical data types from the dataframe\n",
    "data_webdata1.select_dtypes(\"number\").columns"
   ]
  },
  {
   "cell_type": "code",
   "execution_count": 386,
   "metadata": {},
   "outputs": [
    {
     "data": {
      "text/plain": [
       "visit_id      56725\n",
       "visitor_id    51196\n",
       "client_id     49447\n",
       "dtype: int64"
      ]
     },
     "execution_count": 386,
     "metadata": {},
     "output_type": "execute_result"
    }
   ],
   "source": [
    "# counting and sorting the unique values for each object (string) column in descending order\n",
    "data_webdata1.select_dtypes(\"object\").nunique().sort_values(ascending=False)\n",
    "\n",
    "# all columns seem categorical, as there isn't a wide variability of values."
   ]
  },
  {
   "cell_type": "code",
   "execution_count": 388,
   "metadata": {},
   "outputs": [
    {
     "name": "stdout",
     "output_type": "stream",
     "text": [
      " Starting smart cleaning process...\n",
      "\n",
      " Sample process_step values: ['2.0' '3.0' '1.0']\n",
      "\n",
      " Data types after cleaning:\n",
      "client_id               object\n",
      "visitor_id              object\n",
      "visit_id                object\n",
      "process_step           float64\n",
      "date_time       datetime64[ns]\n",
      "dtype: object\n",
      "\n",
      " Missing values in each column:\n",
      "client_id       0\n",
      "visitor_id      0\n",
      "visit_id        0\n",
      "process_step    0\n",
      "date_time       0\n",
      "dtype: int64\n",
      "\n",
      " Duplicated rows in the data: 5849\n",
      "\n",
      " Smart cleaning complete!\n",
      "\n"
     ]
    }
   ],
   "source": [
    "data_webdata1 = smart_clean_webdata(data_webdata1)\n"
   ]
  },
  {
   "cell_type": "code",
   "execution_count": 344,
   "metadata": {},
   "outputs": [
    {
     "name": "stdout",
     "output_type": "stream",
     "text": [
      "Duplicates removed.\n"
     ]
    }
   ],
   "source": [
    "# remove dublications \n",
    "data_webdata1 = data_webdata1.drop_duplicates()\n",
    "print(\"Duplicates removed.\")\n",
    "\n"
   ]
  },
  {
   "cell_type": "code",
   "execution_count": 346,
   "metadata": {},
   "outputs": [
    {
     "name": "stdout",
     "output_type": "stream",
     "text": [
      " Missing process_step values filled with 0.\n"
     ]
    }
   ],
   "source": [
    "#handel missing process_step fill with 0\n",
    "data_webdata1[\"process_step\"] = data_webdata1[\"process_step\"].fillna(0)\n",
    "print(\" Missing process_step values filled with 0.\")\n"
   ]
  },
  {
   "cell_type": "code",
   "execution_count": 348,
   "metadata": {},
   "outputs": [
    {
     "name": "stdout",
     "output_type": "stream",
     "text": [
      "Cleaned data exported to 'cleaned_data_webdata1.csv'\n"
     ]
    }
   ],
   "source": [
    "# Export cleaned data to CSV\n",
    "data_webdata1.to_csv(\"cleaned_data_webdata1.csv\", index=False, encoding='utf-8-sig')\n",
    "\n",
    "print(\"Cleaned data exported to 'cleaned_data_webdata1.csv'\")\n"
   ]
  },
  {
   "cell_type": "code",
   "execution_count": 400,
   "metadata": {},
   "outputs": [
    {
     "name": "stdout",
     "output_type": "stream",
     "text": [
      "  client_id,visitor_id,visit_id,process_step,date_time\n",
      "0  763412,601952081_10457207388,397475557_4044094...  \n",
      "1  6019349,442094451_91531546617,154620534_353310...  \n",
      "2  6019349,442094451_91531546617,154620534_353310...  \n",
      "3  6019349,442094451_91531546617,154620534_353310...  \n",
      "4  6019349,442094451_91531546617,154620534_353310...  \n",
      "Index(['client_id,visitor_id,visit_id,process_step,date_time'], dtype='object')\n"
     ]
    }
   ],
   "source": [
    "# load df_final_web_data_pt_1.txt\n",
    "\n",
    "data_webdata2 = pd.read_csv('C:/Users/Beheerder/Desktop/IronHack/project2/IH-DA-Project02/data/df_final_web_data_pt_2.csv', sep='\\t') \n",
    "print(data_webdata2.head())\n",
    "print(data_webdata2.columns) "
   ]
  },
  {
   "cell_type": "code",
   "execution_count": 402,
   "metadata": {},
   "outputs": [
    {
     "name": "stdout",
     "output_type": "stream",
     "text": [
      "  client_id             visitor_id                      visit_id process_step  \\\n",
      "0    763412  601952081_10457207388  397475557_40440946728_419634      confirm   \n",
      "1   6019349  442094451_91531546617  154620534_35331068705_522317      confirm   \n",
      "2   6019349  442094451_91531546617  154620534_35331068705_522317       step_3   \n",
      "3   6019349  442094451_91531546617  154620534_35331068705_522317       step_2   \n",
      "4   6019349  442094451_91531546617  154620534_35331068705_522317       step_1   \n",
      "\n",
      "        date_time  \n",
      "0   6/6/2017 8:56  \n",
      "1  6/1/2017 11:59  \n",
      "2  6/1/2017 11:58  \n",
      "3  6/1/2017 11:58  \n",
      "4  6/1/2017 11:57  \n"
     ]
    }
   ],
   "source": [
    "# Assuming your column is unnamed or called 'client_id,visitor_id,visit_id,process_step,date_time'\n",
    "data_webdata2 = data_webdata2.iloc[:, 0].str.split(',', expand=True)\n",
    "\n",
    "# Rename the columns\n",
    "data_webdata2.columns = [\"client_id\", \"visitor_id\", \"visit_id\", \"process_step\", \"date_time\"]\n",
    "\n",
    "# Check\n",
    "print(data_webdata2.head())"
   ]
  },
  {
   "cell_type": "code",
   "execution_count": 406,
   "metadata": {},
   "outputs": [
    {
     "data": {
      "text/html": [
       "<div>\n",
       "<style scoped>\n",
       "    .dataframe tbody tr th:only-of-type {\n",
       "        vertical-align: middle;\n",
       "    }\n",
       "\n",
       "    .dataframe tbody tr th {\n",
       "        vertical-align: top;\n",
       "    }\n",
       "\n",
       "    .dataframe thead th {\n",
       "        text-align: right;\n",
       "    }\n",
       "</style>\n",
       "<table border=\"1\" class=\"dataframe\">\n",
       "  <thead>\n",
       "    <tr style=\"text-align: right;\">\n",
       "      <th></th>\n",
       "      <th>client_id</th>\n",
       "      <th>visitor_id</th>\n",
       "      <th>visit_id</th>\n",
       "      <th>process_step</th>\n",
       "      <th>date_time</th>\n",
       "    </tr>\n",
       "  </thead>\n",
       "  <tbody>\n",
       "    <tr>\n",
       "      <th>1</th>\n",
       "      <td>6019349</td>\n",
       "      <td>442094451_91531546617</td>\n",
       "      <td>154620534_35331068705_522317</td>\n",
       "      <td>confirm</td>\n",
       "      <td>6/1/2017 11:59</td>\n",
       "    </tr>\n",
       "    <tr>\n",
       "      <th>2</th>\n",
       "      <td>6019349</td>\n",
       "      <td>442094451_91531546617</td>\n",
       "      <td>154620534_35331068705_522317</td>\n",
       "      <td>step_3</td>\n",
       "      <td>6/1/2017 11:58</td>\n",
       "    </tr>\n",
       "    <tr>\n",
       "      <th>3</th>\n",
       "      <td>6019349</td>\n",
       "      <td>442094451_91531546617</td>\n",
       "      <td>154620534_35331068705_522317</td>\n",
       "      <td>step_2</td>\n",
       "      <td>6/1/2017 11:58</td>\n",
       "    </tr>\n",
       "    <tr>\n",
       "      <th>4</th>\n",
       "      <td>6019349</td>\n",
       "      <td>442094451_91531546617</td>\n",
       "      <td>154620534_35331068705_522317</td>\n",
       "      <td>step_1</td>\n",
       "      <td>6/1/2017 11:57</td>\n",
       "    </tr>\n",
       "    <tr>\n",
       "      <th>5</th>\n",
       "      <td>6019349</td>\n",
       "      <td>442094451_91531546617</td>\n",
       "      <td>154620534_35331068705_522317</td>\n",
       "      <td>start</td>\n",
       "      <td>6/1/2017 11:57</td>\n",
       "    </tr>\n",
       "    <tr>\n",
       "      <th>...</th>\n",
       "      <td>...</td>\n",
       "      <td>...</td>\n",
       "      <td>...</td>\n",
       "      <td>...</td>\n",
       "      <td>...</td>\n",
       "    </tr>\n",
       "    <tr>\n",
       "      <th>412259</th>\n",
       "      <td>9668240</td>\n",
       "      <td>388766751_9038881013</td>\n",
       "      <td>922267647_3096648104_968866</td>\n",
       "      <td>start</td>\n",
       "      <td>5/24/2017 18:46</td>\n",
       "    </tr>\n",
       "    <tr>\n",
       "      <th>412260</th>\n",
       "      <td>9668240</td>\n",
       "      <td>388766751_9038881013</td>\n",
       "      <td>922267647_3096648104_968866</td>\n",
       "      <td>start</td>\n",
       "      <td>5/24/2017 18:45</td>\n",
       "    </tr>\n",
       "    <tr>\n",
       "      <th>412261</th>\n",
       "      <td>9668240</td>\n",
       "      <td>388766751_9038881013</td>\n",
       "      <td>922267647_3096648104_968866</td>\n",
       "      <td>step_1</td>\n",
       "      <td>5/24/2017 18:44</td>\n",
       "    </tr>\n",
       "    <tr>\n",
       "      <th>412262</th>\n",
       "      <td>9668240</td>\n",
       "      <td>388766751_9038881013</td>\n",
       "      <td>922267647_3096648104_968866</td>\n",
       "      <td>start</td>\n",
       "      <td>5/24/2017 18:44</td>\n",
       "    </tr>\n",
       "    <tr>\n",
       "      <th>412263</th>\n",
       "      <td>674799</td>\n",
       "      <td>947159805_81558194550</td>\n",
       "      <td>86152093_47511127657_716022</td>\n",
       "      <td>start</td>\n",
       "      <td>6/3/2017 12:17</td>\n",
       "    </tr>\n",
       "  </tbody>\n",
       "</table>\n",
       "<p>412263 rows × 5 columns</p>\n",
       "</div>"
      ],
      "text/plain": [
       "       client_id             visitor_id                      visit_id  \\\n",
       "1        6019349  442094451_91531546617  154620534_35331068705_522317   \n",
       "2        6019349  442094451_91531546617  154620534_35331068705_522317   \n",
       "3        6019349  442094451_91531546617  154620534_35331068705_522317   \n",
       "4        6019349  442094451_91531546617  154620534_35331068705_522317   \n",
       "5        6019349  442094451_91531546617  154620534_35331068705_522317   \n",
       "...          ...                    ...                           ...   \n",
       "412259   9668240   388766751_9038881013   922267647_3096648104_968866   \n",
       "412260   9668240   388766751_9038881013   922267647_3096648104_968866   \n",
       "412261   9668240   388766751_9038881013   922267647_3096648104_968866   \n",
       "412262   9668240   388766751_9038881013   922267647_3096648104_968866   \n",
       "412263    674799  947159805_81558194550   86152093_47511127657_716022   \n",
       "\n",
       "       process_step        date_time  \n",
       "1           confirm   6/1/2017 11:59  \n",
       "2            step_3   6/1/2017 11:58  \n",
       "3            step_2   6/1/2017 11:58  \n",
       "4            step_1   6/1/2017 11:57  \n",
       "5             start   6/1/2017 11:57  \n",
       "...             ...              ...  \n",
       "412259        start  5/24/2017 18:46  \n",
       "412260        start  5/24/2017 18:45  \n",
       "412261       step_1  5/24/2017 18:44  \n",
       "412262        start  5/24/2017 18:44  \n",
       "412263        start   6/3/2017 12:17  \n",
       "\n",
       "[412263 rows x 5 columns]"
      ]
     },
     "execution_count": 406,
     "metadata": {},
     "output_type": "execute_result"
    }
   ],
   "source": [
    "import pandas as pd\n",
    "\n",
    "df1 = pd.read_csv('cleaned_data_webdata1.csv')\n",
    "df2 = pd.read_csv('cleaned_data_webdata2.csv')\n",
    "\n",
    "frames = [df1, df2]\n",
    "data_webdata = pd.concat(frames)\n",
    "print(data_webdata)"
   ]
  },
  {
   "cell_type": "code",
   "execution_count": 408,
   "metadata": {},
   "outputs": [
    {
     "data": {
      "text/plain": [
       "(412263, 5)"
      ]
     },
     "execution_count": 408,
     "metadata": {},
     "output_type": "execute_result"
    }
   ],
   "source": [
    "# retrieving the number of rwos and columns in the dataframe \n",
    "data_webdata2.shape"
   ]
  },
  {
   "cell_type": "code",
   "execution_count": 410,
   "metadata": {},
   "outputs": [
    {
     "data": {
      "text/plain": [
       "client_id       object\n",
       "visitor_id      object\n",
       "visit_id        object\n",
       "process_step    object\n",
       "date_time       object\n",
       "dtype: object"
      ]
     },
     "execution_count": 410,
     "metadata": {},
     "output_type": "execute_result"
    }
   ],
   "source": [
    "# displaying the data types of each column in the dataframe\n",
    "data_webdata2.dtypes"
   ]
  },
  {
   "cell_type": "code",
   "execution_count": 412,
   "metadata": {},
   "outputs": [
    {
     "data": {
      "text/plain": [
       "[dtype('O')]"
      ]
     },
     "execution_count": 412,
     "metadata": {},
     "output_type": "execute_result"
    }
   ],
   "source": [
    "# retrieving the unique data types present in the dataframe columns\n",
    "list(set(data_webdata2.dtypes.tolist()))"
   ]
  },
  {
   "cell_type": "code",
   "execution_count": 420,
   "metadata": {},
   "outputs": [
    {
     "name": "stdout",
     "output_type": "stream",
     "text": [
      "float64\n",
      "[nan  3.  2.  1.]\n"
     ]
    }
   ],
   "source": [
    "data_webdata2[\"process_step\"] = data_webdata2[\"process_step\"].astype(str).str.extract(r'(\\d+)').astype(float)\n",
    "print(data_webdata2[\"process_step\"].dtype)\n",
    "print(data_webdata2[\"process_step\"].unique())\n"
   ]
  },
  {
   "cell_type": "code",
   "execution_count": 422,
   "metadata": {},
   "outputs": [],
   "source": [
    "data_webdata2[\"process_step\"] = data_webdata2[\"process_step\"].astype(str).str.extract(r'(\\d+)').astype(float)"
   ]
  },
  {
   "cell_type": "code",
   "execution_count": 424,
   "metadata": {},
   "outputs": [
    {
     "data": {
      "text/html": [
       "<div>\n",
       "<style scoped>\n",
       "    .dataframe tbody tr th:only-of-type {\n",
       "        vertical-align: middle;\n",
       "    }\n",
       "\n",
       "    .dataframe tbody tr th {\n",
       "        vertical-align: top;\n",
       "    }\n",
       "\n",
       "    .dataframe thead th {\n",
       "        text-align: right;\n",
       "    }\n",
       "</style>\n",
       "<table border=\"1\" class=\"dataframe\">\n",
       "  <thead>\n",
       "    <tr style=\"text-align: right;\">\n",
       "      <th></th>\n",
       "      <th>client_id</th>\n",
       "      <th>visitor_id</th>\n",
       "      <th>visit_id</th>\n",
       "      <th>process_step</th>\n",
       "      <th>date_time</th>\n",
       "    </tr>\n",
       "  </thead>\n",
       "  <tbody>\n",
       "    <tr>\n",
       "      <th>1</th>\n",
       "      <td>6019349</td>\n",
       "      <td>442094451_91531546617</td>\n",
       "      <td>154620534_35331068705_522317</td>\n",
       "      <td>NaN</td>\n",
       "      <td>2017-06-01 11:59:00</td>\n",
       "    </tr>\n",
       "    <tr>\n",
       "      <th>2</th>\n",
       "      <td>6019349</td>\n",
       "      <td>442094451_91531546617</td>\n",
       "      <td>154620534_35331068705_522317</td>\n",
       "      <td>3.0</td>\n",
       "      <td>2017-06-01 11:58:00</td>\n",
       "    </tr>\n",
       "    <tr>\n",
       "      <th>3</th>\n",
       "      <td>6019349</td>\n",
       "      <td>442094451_91531546617</td>\n",
       "      <td>154620534_35331068705_522317</td>\n",
       "      <td>2.0</td>\n",
       "      <td>2017-06-01 11:58:00</td>\n",
       "    </tr>\n",
       "    <tr>\n",
       "      <th>4</th>\n",
       "      <td>6019349</td>\n",
       "      <td>442094451_91531546617</td>\n",
       "      <td>154620534_35331068705_522317</td>\n",
       "      <td>1.0</td>\n",
       "      <td>2017-06-01 11:57:00</td>\n",
       "    </tr>\n",
       "    <tr>\n",
       "      <th>5</th>\n",
       "      <td>6019349</td>\n",
       "      <td>442094451_91531546617</td>\n",
       "      <td>154620534_35331068705_522317</td>\n",
       "      <td>NaN</td>\n",
       "      <td>2017-06-01 11:57:00</td>\n",
       "    </tr>\n",
       "  </tbody>\n",
       "</table>\n",
       "</div>"
      ],
      "text/plain": [
       "  client_id             visitor_id                      visit_id  \\\n",
       "1   6019349  442094451_91531546617  154620534_35331068705_522317   \n",
       "2   6019349  442094451_91531546617  154620534_35331068705_522317   \n",
       "3   6019349  442094451_91531546617  154620534_35331068705_522317   \n",
       "4   6019349  442094451_91531546617  154620534_35331068705_522317   \n",
       "5   6019349  442094451_91531546617  154620534_35331068705_522317   \n",
       "\n",
       "   process_step           date_time  \n",
       "1           NaN 2017-06-01 11:59:00  \n",
       "2           3.0 2017-06-01 11:58:00  \n",
       "3           2.0 2017-06-01 11:58:00  \n",
       "4           1.0 2017-06-01 11:57:00  \n",
       "5           NaN 2017-06-01 11:57:00  "
      ]
     },
     "execution_count": 424,
     "metadata": {},
     "output_type": "execute_result"
    }
   ],
   "source": [
    "# Fixing data types in the dataframe data_webdata1\n",
    "data_webdata2[\"client_id\"] = data_webdata2[\"client_id\"].astype(str)\n",
    "data_webdata2[\"visitor_id\"] = data_webdata2[\"visitor_id\"].astype(str)\n",
    "data_webdata2[\"visit_id\"] = data_webdata2[\"visit_id\"].astype(str)\n",
    "data_webdata2[\"process_step\"] = data_webdata2[\"process_step\"].astype(str).str.extract(r'(\\d+)').astype(float)\n",
    "data_webdata2[\"date_time\"] = pd.to_datetime(data_webdata2[\"date_time\"])\n",
    "\n",
    "# Add this to display the cleaned dataframe\n",
    "data_webdata2.head()"
   ]
  },
  {
   "cell_type": "code",
   "execution_count": 426,
   "metadata": {},
   "outputs": [
    {
     "name": "stdout",
     "output_type": "stream",
     "text": [
      "client_id            0\n",
      "visitor_id           0\n",
      "visit_id             0\n",
      "process_step    192594\n",
      "date_time            0\n",
      "dtype: int64\n"
     ]
    }
   ],
   "source": [
    "print(data_webdata2.isnull().sum())"
   ]
  },
  {
   "cell_type": "code",
   "execution_count": 428,
   "metadata": {},
   "outputs": [
    {
     "name": "stdout",
     "output_type": "stream",
     "text": [
      "[nan  3.  2.  1.]\n"
     ]
    }
   ],
   "source": [
    "print(data_webdata2[\"process_step\"].unique())"
   ]
  },
  {
   "cell_type": "code",
   "execution_count": 432,
   "metadata": {},
   "outputs": [
    {
     "name": "stdout",
     "output_type": "stream",
     "text": [
      "   client_id             visitor_id                      visit_id  \\\n",
      "1    6019349  442094451_91531546617  154620534_35331068705_522317   \n",
      "5    6019349  442094451_91531546617  154620534_35331068705_522317   \n",
      "6    4726500  934350987_45569789638  467318052_88159801968_565608   \n",
      "10   4726500  934350987_45569789638  467318052_88159801968_565608   \n",
      "11   2604484  403124303_66054292858  839120079_63294408771_355112   \n",
      "\n",
      "    process_step           date_time  \n",
      "1            NaN 2017-06-01 11:59:00  \n",
      "5            NaN 2017-06-01 11:57:00  \n",
      "6            NaN 2017-06-05 17:38:00  \n",
      "10           NaN 2017-06-05 17:37:00  \n",
      "11           NaN 2017-06-05 17:13:00  \n"
     ]
    }
   ],
   "source": [
    "print(data_webdata2[data_webdata2[\"process_step\"].isnull()].head())"
   ]
  },
  {
   "cell_type": "code",
   "execution_count": 434,
   "metadata": {},
   "outputs": [],
   "source": [
    "# drop missing values \n",
    "data_webdata2 = data_webdata2.dropna(subset=[\"process_step\"])"
   ]
  },
  {
   "cell_type": "code",
   "execution_count": 436,
   "metadata": {},
   "outputs": [
    {
     "name": "stdout",
     "output_type": "stream",
     "text": [
      "['442094451_91531546617' '934350987_45569789638' '159724599_74688076986'\n",
      " ... '358754208_29929976792' '473024645_56027518531'\n",
      " '388766751_9038881013']\n"
     ]
    }
   ],
   "source": [
    "# visitor_id is a combination of two numbers separated by an underscore ( do we need to separat or use it as it is ?)\n",
    "print(data_webdata2[\"visitor_id\"].unique())"
   ]
  },
  {
   "cell_type": "code",
   "execution_count": 438,
   "metadata": {},
   "outputs": [
    {
     "name": "stdout",
     "output_type": "stream",
     "text": [
      "Empty DataFrame\n",
      "Columns: [client_id, visitor_id, visit_id, process_step, date_time]\n",
      "Index: []\n"
     ]
    }
   ],
   "source": [
    "# check the rows where process_step is missing \n",
    "print(data_webdata2[data_webdata2[\"process_step\"].isnull()].head(10))\n"
   ]
  },
  {
   "cell_type": "code",
   "execution_count": 440,
   "metadata": {},
   "outputs": [
    {
     "data": {
      "text/plain": [
       "Index(['process_step'], dtype='object')"
      ]
     },
     "execution_count": 440,
     "metadata": {},
     "output_type": "execute_result"
    }
   ],
   "source": [
    "# extracting column names with numerical data types from the dataframe\n",
    "data_webdata2.select_dtypes(\"number\").columns"
   ]
  },
  {
   "cell_type": "code",
   "execution_count": 442,
   "metadata": {},
   "outputs": [
    {
     "data": {
      "text/plain": [
       "visit_id      64273\n",
       "visitor_id    59335\n",
       "client_id     58096\n",
       "dtype: int64"
      ]
     },
     "execution_count": 442,
     "metadata": {},
     "output_type": "execute_result"
    }
   ],
   "source": [
    "# counting and sorting the unique values for each object (string) column in descending order\n",
    "data_webdata2.select_dtypes(\"object\").nunique().sort_values(ascending=False)\n",
    "\n",
    "# all columns seem categorical, as there isn't a wide variability of values."
   ]
  },
  {
   "cell_type": "code",
   "execution_count": 444,
   "metadata": {},
   "outputs": [
    {
     "name": "stdout",
     "output_type": "stream",
     "text": [
      " Starting smart cleaning process...\n"
     ]
    },
    {
     "name": "stderr",
     "output_type": "stream",
     "text": [
      "C:\\Users\\Beheerder\\AppData\\Local\\Temp\\ipykernel_26356\\1106595895.py:17: SettingWithCopyWarning: \n",
      "A value is trying to be set on a copy of a slice from a DataFrame.\n",
      "Try using .loc[row_indexer,col_indexer] = value instead\n",
      "\n",
      "See the caveats in the documentation: https://pandas.pydata.org/pandas-docs/stable/user_guide/indexing.html#returning-a-view-versus-a-copy\n",
      "  df[col] = df[col].astype(str)\n",
      "C:\\Users\\Beheerder\\AppData\\Local\\Temp\\ipykernel_26356\\1106595895.py:17: SettingWithCopyWarning: \n",
      "A value is trying to be set on a copy of a slice from a DataFrame.\n",
      "Try using .loc[row_indexer,col_indexer] = value instead\n",
      "\n",
      "See the caveats in the documentation: https://pandas.pydata.org/pandas-docs/stable/user_guide/indexing.html#returning-a-view-versus-a-copy\n",
      "  df[col] = df[col].astype(str)\n",
      "C:\\Users\\Beheerder\\AppData\\Local\\Temp\\ipykernel_26356\\1106595895.py:17: SettingWithCopyWarning: \n",
      "A value is trying to be set on a copy of a slice from a DataFrame.\n",
      "Try using .loc[row_indexer,col_indexer] = value instead\n",
      "\n",
      "See the caveats in the documentation: https://pandas.pydata.org/pandas-docs/stable/user_guide/indexing.html#returning-a-view-versus-a-copy\n",
      "  df[col] = df[col].astype(str)\n"
     ]
    },
    {
     "name": "stdout",
     "output_type": "stream",
     "text": [
      "\n",
      " Sample process_step values: ['3.0' '2.0' '1.0']\n",
      "\n",
      " Data types after cleaning:\n",
      "client_id               object\n",
      "visitor_id              object\n",
      "visit_id                object\n",
      "process_step           float64\n",
      "date_time       datetime64[ns]\n",
      "dtype: object\n",
      "\n",
      " Missing values in each column:\n",
      "client_id       0\n",
      "visitor_id      0\n",
      "visit_id        0\n",
      "process_step    0\n",
      "date_time       0\n",
      "dtype: int64\n"
     ]
    },
    {
     "name": "stderr",
     "output_type": "stream",
     "text": [
      "C:\\Users\\Beheerder\\AppData\\Local\\Temp\\ipykernel_26356\\1106595895.py:27: SettingWithCopyWarning: \n",
      "A value is trying to be set on a copy of a slice from a DataFrame.\n",
      "Try using .loc[row_indexer,col_indexer] = value instead\n",
      "\n",
      "See the caveats in the documentation: https://pandas.pydata.org/pandas-docs/stable/user_guide/indexing.html#returning-a-view-versus-a-copy\n",
      "  df[\"process_step\"] = pd.to_numeric(df[\"process_step\"], errors='coerce')\n",
      "C:\\Users\\Beheerder\\AppData\\Local\\Temp\\ipykernel_26356\\1106595895.py:35: SettingWithCopyWarning: \n",
      "A value is trying to be set on a copy of a slice from a DataFrame.\n",
      "Try using .loc[row_indexer,col_indexer] = value instead\n",
      "\n",
      "See the caveats in the documentation: https://pandas.pydata.org/pandas-docs/stable/user_guide/indexing.html#returning-a-view-versus-a-copy\n",
      "  df[\"date_time\"] = pd.to_datetime(df[\"date_time\"], errors='coerce')\n"
     ]
    },
    {
     "name": "stdout",
     "output_type": "stream",
     "text": [
      "\n",
      " Duplicated rows in the data: 5952\n",
      "\n",
      " Smart cleaning complete!\n",
      "\n"
     ]
    }
   ],
   "source": [
    "data_webdata2 = smart_clean_webdata(data_webdata2)"
   ]
  },
  {
   "cell_type": "code",
   "execution_count": 446,
   "metadata": {},
   "outputs": [
    {
     "name": "stdout",
     "output_type": "stream",
     "text": [
      "Duplicates removed.\n"
     ]
    }
   ],
   "source": [
    "# remove dublications \n",
    "data_webdata2 = data_webdata2.drop_duplicates()\n",
    "print(\"Duplicates removed.\")\n"
   ]
  },
  {
   "cell_type": "code",
   "execution_count": 448,
   "metadata": {},
   "outputs": [
    {
     "name": "stdout",
     "output_type": "stream",
     "text": [
      " Missing process_step values filled with 0.\n"
     ]
    }
   ],
   "source": [
    "#handel missing process_step fill with 0\n",
    "data_webdata2[\"process_step\"] = data_webdata2[\"process_step\"].fillna(0)\n",
    "print(\" Missing process_step values filled with 0.\")"
   ]
  },
  {
   "cell_type": "code",
   "execution_count": 450,
   "metadata": {},
   "outputs": [
    {
     "name": "stdout",
     "output_type": "stream",
     "text": [
      "Cleaned data exported to 'cleaned_data_webdata2.csv'\n"
     ]
    }
   ],
   "source": [
    "# Export cleaned data to CSV\n",
    "data_webdata2.to_csv(\"cleaned_data_webdata2.csv\", index=False, encoding='utf-8-sig')\n",
    "\n",
    "print(\"Cleaned data exported to 'cleaned_data_webdata2.csv'\")"
   ]
  },
  {
   "cell_type": "code",
   "execution_count": 35,
   "metadata": {},
   "outputs": [
    {
     "name": "stdout",
     "output_type": "stream",
     "text": [
      "        client_id            visitor_id                      visit_id  \\\n",
      "0         9988021  580560515_7732621733  781255054_21935453173_531117   \n",
      "1         9988021  580560515_7732621733  781255054_21935453173_531117   \n",
      "2         9988021  580560515_7732621733  781255054_21935453173_531117   \n",
      "3         9988021  580560515_7732621733  781255054_21935453173_531117   \n",
      "4         9988021  580560515_7732621733  781255054_21935453173_531117   \n",
      "...           ...                   ...                           ...   \n",
      "213712    9668240  388766751_9038881013   922267647_3096648104_968866   \n",
      "213713    9668240  388766751_9038881013   922267647_3096648104_968866   \n",
      "213714    9668240  388766751_9038881013   922267647_3096648104_968866   \n",
      "213715    9668240  388766751_9038881013   922267647_3096648104_968866   \n",
      "213716    9668240  388766751_9038881013   922267647_3096648104_968866   \n",
      "\n",
      "        process_step            date_time  \n",
      "0                2.0  2017-04-17 15:26:00  \n",
      "1                3.0  2017-04-17 15:19:00  \n",
      "2                2.0  2017-04-17 15:19:00  \n",
      "3                3.0  2017-04-17 15:18:00  \n",
      "4                2.0  2017-04-17 15:17:00  \n",
      "...              ...                  ...  \n",
      "213712           2.0  2017-05-24 18:49:00  \n",
      "213713           1.0  2017-05-24 18:49:00  \n",
      "213714           2.0  2017-05-24 18:48:00  \n",
      "213715           1.0  2017-05-24 18:48:00  \n",
      "213716           1.0  2017-05-24 18:44:00  \n",
      "\n",
      "[539597 rows x 5 columns]\n"
     ]
    }
   ],
   "source": [
    "import pandas as pd\n",
    "\n",
    "df1 = pd.read_csv('cleaned_data_webdata1.csv')\n",
    "df2 = pd.read_csv('cleaned_data_webdata2.csv')\n",
    "\n",
    "frames = [df1, df2]\n",
    "data_webdata = pd.concat(frames)\n",
    "print(data_webdata)\n"
   ]
  },
  {
   "cell_type": "code",
   "execution_count": 43,
   "metadata": {},
   "outputs": [
    {
     "name": "stdout",
     "output_type": "stream",
     "text": [
      "<class 'pandas.core.frame.DataFrame'>\n",
      "Index: 539597 entries, 0 to 213716\n",
      "Data columns (total 5 columns):\n",
      " #   Column        Non-Null Count   Dtype  \n",
      "---  ------        --------------   -----  \n",
      " 0   client_id     539597 non-null  int64  \n",
      " 1   visitor_id    539597 non-null  object \n",
      " 2   visit_id      539597 non-null  object \n",
      " 3   process_step  539597 non-null  float64\n",
      " 4   date_time     539597 non-null  object \n",
      "dtypes: float64(1), int64(1), object(3)\n",
      "memory usage: 24.7+ MB\n",
      "None\n",
      "          client_id   process_step\n",
      "count  5.395970e+05  539597.000000\n",
      "mean   5.008859e+06       1.379878\n",
      "std    2.879126e+06       1.082236\n",
      "min    1.690000e+02       0.000000\n",
      "25%    2.516816e+06       0.000000\n",
      "50%    5.022997e+06       1.000000\n",
      "75%    7.491937e+06       2.000000\n",
      "max    9.999875e+06       3.000000\n"
     ]
    }
   ],
   "source": [
    "print(data_webdata.info())\n",
    "print(data_webdata.describe())"
   ]
  },
  {
   "cell_type": "code",
   "execution_count": 17,
   "metadata": {},
   "outputs": [
    {
     "name": "stdout",
     "output_type": "stream",
     "text": [
      "Total duplicates: 0\n"
     ]
    }
   ],
   "source": [
    "print(\"Total duplicates:\", data_webdata.duplicated().sum())\n",
    "\n"
   ]
  },
  {
   "cell_type": "code",
   "execution_count": 55,
   "metadata": {},
   "outputs": [
    {
     "name": "stdout",
     "output_type": "stream",
     "text": [
      "Data exported successfully!\n"
     ]
    }
   ],
   "source": [
    "data_webdata.to_csv('data_webdata.csv', index=False)\n",
    "print(\"Data exported successfully!\")"
   ]
  },
  {
   "cell_type": "code",
   "execution_count": 57,
   "metadata": {},
   "outputs": [
    {
     "name": "stdout",
     "output_type": "stream",
     "text": [
      "   client_id            visitor_id                      visit_id  \\\n",
      "1    9988021  580560515_7732621733  781255054_21935453173_531117   \n",
      "2    9988021  580560515_7732621733  781255054_21935453173_531117   \n",
      "3    9988021  580560515_7732621733  781255054_21935453173_531117   \n",
      "4    9988021  580560515_7732621733  781255054_21935453173_531117   \n",
      "5    8320017  39393514_33118319366  960651974_70596002104_312201   \n",
      "\n",
      "   process_step            date_time  \n",
      "1           3.0  2017-04-17 15:18:00  \n",
      "2           2.0  2017-04-17 15:17:00  \n",
      "3           1.0  2017-04-17 15:17:00  \n",
      "4           0.0  2017-04-17 15:16:00  \n",
      "5           0.0  2017-04-05 13:10:00  \n"
     ]
    }
   ],
   "source": [
    "data_webdata = data_webdata.reset_index(drop=True)\n",
    "data_webdata = data_webdata.iloc[1:]\n",
    "print(data_webdata.head())"
   ]
  },
  {
   "cell_type": "code",
   "execution_count": 67,
   "metadata": {},
   "outputs": [
    {
     "name": "stdout",
     "output_type": "stream",
     "text": [
      "Data saved to 'cleaned_webdata.csv'\n"
     ]
    }
   ],
   "source": [
    "data_webdata = data_webdata.reset_index(drop=True)\n",
    "data_webdata = data_webdata.iloc[1:]\n",
    "\n",
    "# Save to CSV\n",
    "data_webdata.to_csv('cleaned_webdata.csv', index=False)\n",
    "\n",
    "print(\"Data saved to 'cleaned_webdata.csv'\")\n"
   ]
  },
  {
   "cell_type": "code",
   "execution_count": null,
   "metadata": {},
   "outputs": [],
   "source": []
  },
  {
   "cell_type": "code",
   "execution_count": null,
   "metadata": {},
   "outputs": [],
   "source": []
  }
 ],
 "metadata": {
  "kernelspec": {
   "display_name": "Python [conda env:base] *",
   "language": "python",
   "name": "conda-base-py"
  },
  "language_info": {
   "codemirror_mode": {
    "name": "ipython",
    "version": 3
   },
   "file_extension": ".py",
   "mimetype": "text/x-python",
   "name": "python",
   "nbconvert_exporter": "python",
   "pygments_lexer": "ipython3",
   "version": "3.12.7"
  }
 },
 "nbformat": 4,
 "nbformat_minor": 4
}
