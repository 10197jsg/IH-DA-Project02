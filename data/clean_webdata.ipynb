{
 "cells": [
  {
   "cell_type": "code",
   "execution_count": null,
   "metadata": {},
   "outputs": [],
   "source": [
    "import pandas as pd\n",
    "import numpy as np"
   ]
  },
  {
   "cell_type": "markdown",
   "metadata": {},
   "source": [
    "## DF Final Web Data"
   ]
  },
  {
   "cell_type": "code",
   "execution_count": null,
   "metadata": {},
   "outputs": [],
   "source": [
    "# load df_final_web_data_pt_1.txt\n",
    "data_webdata1 = pd.read_csv('files_for_project/df_final_web_data_pt_1.txt', sep=\",\", header=None)\n",
    "data_webdata1.columns = [\"client_id\", \"visitor_id\", \"visit_id\", \"process_step\", \"date_time\"]"
   ]
  },
  {
   "cell_type": "code",
   "execution_count": null,
   "metadata": {},
   "outputs": [],
   "source": [
    "# drop first row\n",
    "data_webdata1 = data_webdata1.drop(index=0)\n",
    "data_webdata1"
   ]
  },
  {
   "cell_type": "code",
   "execution_count": null,
   "metadata": {},
   "outputs": [],
   "source": [
    "# load df_final_web_data_pt_2.txt\n",
    "data_webdata2 = pd.read_csv('files_for_project/df_final_web_data_pt_2.txt', sep=\",\", header=None)\n",
    "data_webdata2.columns = [\"client_id\", \"visitor_id\", \"visit_id\", \"process_step\", \"date_time\"]"
   ]
  },
  {
   "cell_type": "code",
   "execution_count": null,
   "metadata": {},
   "outputs": [],
   "source": [
    "data_webdata2 = data_webdata2.drop(index=0)\n",
    "data_webdata2"
   ]
  },
  {
   "cell_type": "code",
   "execution_count": null,
   "metadata": {},
   "outputs": [],
   "source": [
    "# merged data_webdata1 + data_webdata2\n",
    "frames = [data_webdata1, data_webdata2]\n",
    "data_webdata = pd.concat(frames)\n",
    "data_webdata"
   ]
  }
 ],
 "metadata": {
  "language_info": {
   "name": "python"
  }
 },
 "nbformat": 4,
 "nbformat_minor": 2
}
