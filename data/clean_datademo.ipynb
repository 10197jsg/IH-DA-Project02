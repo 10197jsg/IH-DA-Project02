{
 "cells": [
  {
   "cell_type": "code",
   "execution_count": 72,
   "metadata": {},
   "outputs": [],
   "source": [
    "import pandas as pd\n",
    "import numpy as np"
   ]
  },
  {
   "cell_type": "markdown",
   "metadata": {},
   "source": [
    "## DF Final Demo"
   ]
  },
  {
   "cell_type": "code",
   "execution_count": 55,
   "metadata": {},
   "outputs": [
    {
     "name": "stderr",
     "output_type": "stream",
     "text": [
      "/var/folders/yr/gmmc3xcx5xg406qfnj2bnx340000gn/T/ipykernel_58637/4256186856.py:2: DtypeWarning: Columns (0,1,2,3,5,6,7,8) have mixed types. Specify dtype option on import or set low_memory=False.\n",
      "  data_demo = pd.read_csv('files_for_project/df_final_demo.txt', sep=\",\", header=None)\n"
     ]
    }
   ],
   "source": [
    "# load df_final_demo.txt\n",
    "data_demo = pd.read_csv('files_for_project/df_final_demo.txt', sep=\",\", header=None)\n",
    "data_demo.columns = [\"client_id\", \"clnt_tenure_yr\", \"clnt_tenure_mnth\", \"clnt_age\", \"gendr\", \"num_accts\", \"bal\", \"calls_6_mnth\", \"logons_6_mnth\"]"
   ]
  },
  {
   "cell_type": "code",
   "execution_count": 56,
   "metadata": {},
   "outputs": [],
   "source": [
    "# drop first column\n",
    "data_demo = data_demo.drop(index=0)"
   ]
  },
  {
   "cell_type": "code",
   "execution_count": null,
   "metadata": {},
   "outputs": [
    {
     "data": {
      "text/html": [
       "<div>\n",
       "<style scoped>\n",
       "    .dataframe tbody tr th:only-of-type {\n",
       "        vertical-align: middle;\n",
       "    }\n",
       "\n",
       "    .dataframe tbody tr th {\n",
       "        vertical-align: top;\n",
       "    }\n",
       "\n",
       "    .dataframe thead th {\n",
       "        text-align: right;\n",
       "    }\n",
       "</style>\n",
       "<table border=\"1\" class=\"dataframe\">\n",
       "  <thead>\n",
       "    <tr style=\"text-align: right;\">\n",
       "      <th></th>\n",
       "      <th>client_id</th>\n",
       "      <th>clnt_tenure_yr</th>\n",
       "      <th>clnt_tenure_mnth</th>\n",
       "      <th>clnt_age</th>\n",
       "      <th>gendr</th>\n",
       "      <th>num_accts</th>\n",
       "      <th>bal</th>\n",
       "      <th>calls_6_mnth</th>\n",
       "      <th>logons_6_mnth</th>\n",
       "    </tr>\n",
       "  </thead>\n",
       "  <tbody>\n",
       "    <tr>\n",
       "      <th>1</th>\n",
       "      <td>836976</td>\n",
       "      <td>6.0</td>\n",
       "      <td>73.0</td>\n",
       "      <td>60.5</td>\n",
       "      <td>U</td>\n",
       "      <td>2.0</td>\n",
       "      <td>45105.3</td>\n",
       "      <td>6.0</td>\n",
       "      <td>9.0</td>\n",
       "    </tr>\n",
       "    <tr>\n",
       "      <th>2</th>\n",
       "      <td>2304905</td>\n",
       "      <td>7.0</td>\n",
       "      <td>94.0</td>\n",
       "      <td>58.0</td>\n",
       "      <td>U</td>\n",
       "      <td>2.0</td>\n",
       "      <td>110860.3</td>\n",
       "      <td>6.0</td>\n",
       "      <td>9.0</td>\n",
       "    </tr>\n",
       "    <tr>\n",
       "      <th>3</th>\n",
       "      <td>1439522</td>\n",
       "      <td>5.0</td>\n",
       "      <td>64.0</td>\n",
       "      <td>32.0</td>\n",
       "      <td>U</td>\n",
       "      <td>2.0</td>\n",
       "      <td>52467.78999999999</td>\n",
       "      <td>6.0</td>\n",
       "      <td>9.0</td>\n",
       "    </tr>\n",
       "    <tr>\n",
       "      <th>4</th>\n",
       "      <td>1562045</td>\n",
       "      <td>16.0</td>\n",
       "      <td>198.0</td>\n",
       "      <td>49.0</td>\n",
       "      <td>M</td>\n",
       "      <td>2.0</td>\n",
       "      <td>67454.65</td>\n",
       "      <td>3.0</td>\n",
       "      <td>6.0</td>\n",
       "    </tr>\n",
       "    <tr>\n",
       "      <th>5</th>\n",
       "      <td>5126305</td>\n",
       "      <td>12.0</td>\n",
       "      <td>145.0</td>\n",
       "      <td>33.0</td>\n",
       "      <td>F</td>\n",
       "      <td>2.0</td>\n",
       "      <td>103671.75</td>\n",
       "      <td>0.0</td>\n",
       "      <td>3.0</td>\n",
       "    </tr>\n",
       "    <tr>\n",
       "      <th>...</th>\n",
       "      <td>...</td>\n",
       "      <td>...</td>\n",
       "      <td>...</td>\n",
       "      <td>...</td>\n",
       "      <td>...</td>\n",
       "      <td>...</td>\n",
       "      <td>...</td>\n",
       "      <td>...</td>\n",
       "      <td>...</td>\n",
       "    </tr>\n",
       "    <tr>\n",
       "      <th>196</th>\n",
       "      <td>3362778</td>\n",
       "      <td>10.0</td>\n",
       "      <td>130.0</td>\n",
       "      <td>61.0</td>\n",
       "      <td>F</td>\n",
       "      <td>2.0</td>\n",
       "      <td>127314.89</td>\n",
       "      <td>6.0</td>\n",
       "      <td>9.0</td>\n",
       "    </tr>\n",
       "    <tr>\n",
       "      <th>197</th>\n",
       "      <td>5687972</td>\n",
       "      <td>14.0</td>\n",
       "      <td>176.0</td>\n",
       "      <td>34.5</td>\n",
       "      <td>M</td>\n",
       "      <td>2.0</td>\n",
       "      <td>24919.16</td>\n",
       "      <td>0.0</td>\n",
       "      <td>3.0</td>\n",
       "    </tr>\n",
       "    <tr>\n",
       "      <th>198</th>\n",
       "      <td>8676893</td>\n",
       "      <td>9.0</td>\n",
       "      <td>116.0</td>\n",
       "      <td>60.5</td>\n",
       "      <td>F</td>\n",
       "      <td>2.0</td>\n",
       "      <td>88968.26</td>\n",
       "      <td>1.0</td>\n",
       "      <td>5.0</td>\n",
       "    </tr>\n",
       "    <tr>\n",
       "      <th>199</th>\n",
       "      <td>4399072</td>\n",
       "      <td>27.0</td>\n",
       "      <td>329.0</td>\n",
       "      <td>57.5</td>\n",
       "      <td>F</td>\n",
       "      <td>3.0</td>\n",
       "      <td>117836.94</td>\n",
       "      <td>3.0</td>\n",
       "      <td>6.0</td>\n",
       "    </tr>\n",
       "    <tr>\n",
       "      <th>200</th>\n",
       "      <td>7705023</td>\n",
       "      <td>12.0</td>\n",
       "      <td>144.0</td>\n",
       "      <td>44.0</td>\n",
       "      <td>F</td>\n",
       "      <td>2.0</td>\n",
       "      <td>60526.869999999995</td>\n",
       "      <td>0.0</td>\n",
       "      <td>3.0</td>\n",
       "    </tr>\n",
       "  </tbody>\n",
       "</table>\n",
       "<p>200 rows × 9 columns</p>\n",
       "</div>"
      ],
      "text/plain": [
       "    client_id clnt_tenure_yr clnt_tenure_mnth clnt_age gendr num_accts  \\\n",
       "1      836976            6.0             73.0     60.5     U       2.0   \n",
       "2     2304905            7.0             94.0     58.0     U       2.0   \n",
       "3     1439522            5.0             64.0     32.0     U       2.0   \n",
       "4     1562045           16.0            198.0     49.0     M       2.0   \n",
       "5     5126305           12.0            145.0     33.0     F       2.0   \n",
       "..        ...            ...              ...      ...   ...       ...   \n",
       "196   3362778           10.0            130.0     61.0     F       2.0   \n",
       "197   5687972           14.0            176.0     34.5     M       2.0   \n",
       "198   8676893            9.0            116.0     60.5     F       2.0   \n",
       "199   4399072           27.0            329.0     57.5     F       3.0   \n",
       "200   7705023           12.0            144.0     44.0     F       2.0   \n",
       "\n",
       "                    bal calls_6_mnth logons_6_mnth  \n",
       "1               45105.3          6.0           9.0  \n",
       "2              110860.3          6.0           9.0  \n",
       "3     52467.78999999999          6.0           9.0  \n",
       "4              67454.65          3.0           6.0  \n",
       "5             103671.75          0.0           3.0  \n",
       "..                  ...          ...           ...  \n",
       "196           127314.89          6.0           9.0  \n",
       "197            24919.16          0.0           3.0  \n",
       "198            88968.26          1.0           5.0  \n",
       "199           117836.94          3.0           6.0  \n",
       "200  60526.869999999995          0.0           3.0  \n",
       "\n",
       "[200 rows x 9 columns]"
      ]
     },
     "execution_count": 57,
     "metadata": {},
     "output_type": "execute_result"
    }
   ],
   "source": [
    "# display the first few rows of the dataset\n",
    "data_demo.head()"
   ]
  },
  {
   "cell_type": "code",
   "execution_count": 58,
   "metadata": {},
   "outputs": [
    {
     "data": {
      "text/plain": [
       "(70609, 9)"
      ]
     },
     "execution_count": 58,
     "metadata": {},
     "output_type": "execute_result"
    }
   ],
   "source": [
    "# retrieving the number of rows and columns in the dataframe\n",
    "data_demo.shape"
   ]
  },
  {
   "cell_type": "code",
   "execution_count": 59,
   "metadata": {},
   "outputs": [
    {
     "data": {
      "text/plain": [
       "client_id           object\n",
       "clnt_tenure_yr      object\n",
       "clnt_tenure_mnth    object\n",
       "clnt_age            object\n",
       "gendr               object\n",
       "num_accts           object\n",
       "bal                 object\n",
       "calls_6_mnth        object\n",
       "logons_6_mnth       object\n",
       "dtype: object"
      ]
     },
     "execution_count": 59,
     "metadata": {},
     "output_type": "execute_result"
    }
   ],
   "source": [
    "# displaying the data types of each column in the dataframe\n",
    "data_demo.dtypes"
   ]
  },
  {
   "cell_type": "code",
   "execution_count": 60,
   "metadata": {},
   "outputs": [
    {
     "data": {
      "text/plain": [
       "[dtype('O')]"
      ]
     },
     "execution_count": 60,
     "metadata": {},
     "output_type": "execute_result"
    }
   ],
   "source": [
    "# retrieving the unique data types present in the dataframe columns\n",
    "list(set(data_demo.dtypes.tolist()))"
   ]
  },
  {
   "cell_type": "code",
   "execution_count": null,
   "metadata": {},
   "outputs": [
    {
     "data": {
      "text/plain": [
       "[dtype('int64'), dtype('O'), dtype('float64')]"
      ]
     },
     "execution_count": 62,
     "metadata": {},
     "output_type": "execute_result"
    }
   ],
   "source": [
    "# fixing data types in the dataframe\n",
    "data_demo[\"client_id\"] = data_demo[\"client_id\"].astype(int)\n",
    "data_demo[\"clnt_tenure_yr\"] = data_demo[\"clnt_tenure_yr\"].astype(float)\n",
    "data_demo[\"clnt_tenure_mnth\"] = data_demo[\"clnt_tenure_mnth\"].astype(float)\n",
    "data_demo[\"clnt_age\"] = data_demo[\"clnt_age\"].astype(float)\n",
    "data_demo[\"num_accts\"] = data_demo[\"num_accts\"].astype(float)\n",
    "data_demo[\"bal\"] = data_demo[\"bal\"].astype(float)\n",
    "data_demo[\"calls_6_mnth\"] = data_demo[\"calls_6_mnth\"].astype(float)\n",
    "data_demo[\"logons_6_mnth\"] = data_demo[\"logons_6_mnth\"].astype(float)"
   ]
  },
  {
   "cell_type": "code",
   "execution_count": 65,
   "metadata": {},
   "outputs": [
    {
     "data": {
      "text/plain": [
       "Index(['client_id', 'clnt_tenure_yr', 'clnt_tenure_mnth', 'clnt_age',\n",
       "       'num_accts', 'bal', 'calls_6_mnth', 'logons_6_mnth'],\n",
       "      dtype='object')"
      ]
     },
     "execution_count": 65,
     "metadata": {},
     "output_type": "execute_result"
    }
   ],
   "source": [
    "# extracting column names with numerical data types from the dataframe\n",
    "data_demo.select_dtypes(\"number\").columns"
   ]
  },
  {
   "cell_type": "code",
   "execution_count": 66,
   "metadata": {},
   "outputs": [
    {
     "data": {
      "text/plain": [
       "client_id           70609\n",
       "bal                 70342\n",
       "clnt_tenure_mnth      482\n",
       "clnt_age              165\n",
       "clnt_tenure_yr         54\n",
       "logons_6_mnth           9\n",
       "num_accts               8\n",
       "calls_6_mnth            8\n",
       "dtype: int64"
      ]
     },
     "execution_count": 66,
     "metadata": {},
     "output_type": "execute_result"
    }
   ],
   "source": [
    "# Counting and sorting the unique values for each numerical column in descending order\n",
    "data_demo.select_dtypes(\"number\").nunique().sort_values(ascending=False)"
   ]
  },
  {
   "cell_type": "code",
   "execution_count": null,
   "metadata": {},
   "outputs": [
    {
     "data": {
      "text/html": [
       "<div>\n",
       "<style scoped>\n",
       "    .dataframe tbody tr th:only-of-type {\n",
       "        vertical-align: middle;\n",
       "    }\n",
       "\n",
       "    .dataframe tbody tr th {\n",
       "        vertical-align: top;\n",
       "    }\n",
       "\n",
       "    .dataframe thead th {\n",
       "        text-align: right;\n",
       "    }\n",
       "</style>\n",
       "<table border=\"1\" class=\"dataframe\">\n",
       "  <thead>\n",
       "    <tr style=\"text-align: right;\">\n",
       "      <th></th>\n",
       "      <th>num_accts</th>\n",
       "      <th>calls_6_mnth</th>\n",
       "      <th>logons_6_mnth</th>\n",
       "    </tr>\n",
       "  </thead>\n",
       "  <tbody>\n",
       "    <tr>\n",
       "      <th>1</th>\n",
       "      <td>2.0</td>\n",
       "      <td>6.0</td>\n",
       "      <td>9.0</td>\n",
       "    </tr>\n",
       "    <tr>\n",
       "      <th>2</th>\n",
       "      <td>2.0</td>\n",
       "      <td>6.0</td>\n",
       "      <td>9.0</td>\n",
       "    </tr>\n",
       "    <tr>\n",
       "      <th>3</th>\n",
       "      <td>2.0</td>\n",
       "      <td>6.0</td>\n",
       "      <td>9.0</td>\n",
       "    </tr>\n",
       "    <tr>\n",
       "      <th>4</th>\n",
       "      <td>2.0</td>\n",
       "      <td>3.0</td>\n",
       "      <td>6.0</td>\n",
       "    </tr>\n",
       "    <tr>\n",
       "      <th>5</th>\n",
       "      <td>2.0</td>\n",
       "      <td>0.0</td>\n",
       "      <td>3.0</td>\n",
       "    </tr>\n",
       "    <tr>\n",
       "      <th>...</th>\n",
       "      <td>...</td>\n",
       "      <td>...</td>\n",
       "      <td>...</td>\n",
       "    </tr>\n",
       "    <tr>\n",
       "      <th>70605</th>\n",
       "      <td>3.0</td>\n",
       "      <td>5.0</td>\n",
       "      <td>5.0</td>\n",
       "    </tr>\n",
       "    <tr>\n",
       "      <th>70606</th>\n",
       "      <td>2.0</td>\n",
       "      <td>6.0</td>\n",
       "      <td>6.0</td>\n",
       "    </tr>\n",
       "    <tr>\n",
       "      <th>70607</th>\n",
       "      <td>2.0</td>\n",
       "      <td>3.0</td>\n",
       "      <td>3.0</td>\n",
       "    </tr>\n",
       "    <tr>\n",
       "      <th>70608</th>\n",
       "      <td>3.0</td>\n",
       "      <td>4.0</td>\n",
       "      <td>4.0</td>\n",
       "    </tr>\n",
       "    <tr>\n",
       "      <th>70609</th>\n",
       "      <td>3.0</td>\n",
       "      <td>7.0</td>\n",
       "      <td>7.0</td>\n",
       "    </tr>\n",
       "  </tbody>\n",
       "</table>\n",
       "<p>70609 rows × 3 columns</p>\n",
       "</div>"
      ],
      "text/plain": [
       "       num_accts  calls_6_mnth  logons_6_mnth\n",
       "1            2.0           6.0            9.0\n",
       "2            2.0           6.0            9.0\n",
       "3            2.0           6.0            9.0\n",
       "4            2.0           3.0            6.0\n",
       "5            2.0           0.0            3.0\n",
       "...          ...           ...            ...\n",
       "70605        3.0           5.0            5.0\n",
       "70606        2.0           6.0            6.0\n",
       "70607        2.0           3.0            3.0\n",
       "70608        3.0           4.0            4.0\n",
       "70609        3.0           7.0            7.0\n",
       "\n",
       "[70609 rows x 3 columns]"
      ]
     },
     "execution_count": 67,
     "metadata": {},
     "output_type": "execute_result"
    }
   ],
   "source": [
    "# separating between discrete and continuous variables, as discrete ones could potentially be treated as categorical.\n",
    "# remember to adjust the threshold (in this case, < 20) based on your dataset's specific characteristics and domain knowledge.\n",
    "potential_categorical_from_numerical = data_demo.select_dtypes(\"number\").loc[:, data_demo.select_dtypes(\"number\").nunique() < 20]\n",
    "potential_categorical_from_numerical"
   ]
  },
  {
   "cell_type": "code",
   "execution_count": 68,
   "metadata": {},
   "outputs": [
    {
     "data": {
      "text/plain": [
       "Index(['gendr'], dtype='object')"
      ]
     },
     "execution_count": 68,
     "metadata": {},
     "output_type": "execute_result"
    }
   ],
   "source": [
    "# retrieving column names with object (typically string) data types from the dataframe\n",
    "data_demo.select_dtypes(\"object\").columns"
   ]
  },
  {
   "cell_type": "code",
   "execution_count": null,
   "metadata": {},
   "outputs": [
    {
     "data": {
      "text/plain": [
       "gendr    4\n",
       "dtype: int64"
      ]
     },
     "execution_count": 69,
     "metadata": {},
     "output_type": "execute_result"
    }
   ],
   "source": [
    "# counting and sorting the unique values for each object (string) column in descending order\n",
    "data_demo.select_dtypes(\"object\").nunique().sort_values(ascending=False)\n",
    "\n",
    "# all columns seem categorical, as there isn't a wide variability of values."
   ]
  },
  {
   "cell_type": "code",
   "execution_count": null,
   "metadata": {},
   "outputs": [
    {
     "data": {
      "text/plain": [
       "array([nan, 'M', 'F'], dtype=object)"
      ]
     },
     "execution_count": 75,
     "metadata": {},
     "output_type": "execute_result"
    }
   ],
   "source": [
    "# clean 'gendr' column of not categorized NaN values\n",
    "data_demo['gendr'] = data_demo['gendr'].replace(\"U\", np.nan)\n",
    "data_demo['gendr'] = data_demo['gendr'].replace(\"X\", np.nan)\n",
    "data_demo.gendr.unique()"
   ]
  },
  {
   "cell_type": "code",
   "execution_count": null,
   "metadata": {},
   "outputs": [],
   "source": [
    "# extracting columns with object (typically string) data types to create a categorical dataframe\n",
    "# for demonstration purposes, let's consider the columns in potential_categorical_from_numerical as categorical variables.\n",
    "data_demo_categorical = pd.concat([data_demo.select_dtypes(\"object\"), potential_categorical_from_numerical], axis=1)\n",
    "\n",
    "# adjusting the numerical dataframe by removing the moved columns\n",
    "data_demo_numerical = data_demo.select_dtypes(\"number\").drop(columns=potential_categorical_from_numerical.columns)"
   ]
  },
  {
   "cell_type": "code",
   "execution_count": 83,
   "metadata": {},
   "outputs": [
    {
     "data": {
      "text/plain": [
       "True"
      ]
     },
     "execution_count": 83,
     "metadata": {},
     "output_type": "execute_result"
    }
   ],
   "source": [
    "# verifying that the total number of columns in the dataframe is the sum of object (string) and numerical columns\n",
    "len(data_demo.columns) == len(data_demo.select_dtypes(\"object\").columns) + len(data_demo.select_dtypes(\"number\").columns)"
   ]
  },
  {
   "cell_type": "code",
   "execution_count": 84,
   "metadata": {},
   "outputs": [
    {
     "data": {
      "text/plain": [
       "gendr               24139\n",
       "clnt_age               15\n",
       "clnt_tenure_yr         14\n",
       "clnt_tenure_mnth       14\n",
       "num_accts              14\n",
       "bal                    14\n",
       "calls_6_mnth           14\n",
       "logons_6_mnth          14\n",
       "client_id               0\n",
       "dtype: int64"
      ]
     },
     "execution_count": 84,
     "metadata": {},
     "output_type": "execute_result"
    }
   ],
   "source": [
    "# checking for missing data\n",
    "data_demo.isnull().sum().sort_values(ascending=False)"
   ]
  },
  {
   "cell_type": "code",
   "execution_count": 85,
   "metadata": {},
   "outputs": [
    {
     "data": {
      "text/plain": [
       "Index([], dtype='object')"
      ]
     },
     "execution_count": 85,
     "metadata": {},
     "output_type": "execute_result"
    }
   ],
   "source": [
    "# identifying columns in the dataframe where over 80% of the values are missing\n",
    "data_demo.columns[data_demo.isnull().mean() > 0.8]"
   ]
  },
  {
   "cell_type": "code",
   "execution_count": 89,
   "metadata": {},
   "outputs": [],
   "source": [
    "# filtering out columns in the dataframe where more than 80% of the values are missing\n",
    "data_demo = data_demo[data_demo.columns[data_demo.isnull().mean() < 0.8]]"
   ]
  },
  {
   "cell_type": "code",
   "execution_count": null,
   "metadata": {},
   "outputs": [],
   "source": [
    "# removing the \"client_id\" column from the dataframe\n",
    "# data_demo.drop(\"client_id\", inplace=True, axis=1)"
   ]
  },
  {
   "cell_type": "code",
   "execution_count": 91,
   "metadata": {},
   "outputs": [
    {
     "data": {
      "text/plain": [
       "(gendr\n",
       " M    23724\n",
       " F    22746\n",
       " Name: count, dtype: int64,\n",
       " gendr\n",
       " M    0.510523\n",
       " F    0.489477\n",
       " Name: proportion, dtype: float64)"
      ]
     },
     "execution_count": 91,
     "metadata": {},
     "output_type": "execute_result"
    }
   ],
   "source": [
    "# frequency table for \"gendr\"\n",
    "frequency_table = data_demo[\"gendr\"].value_counts()\n",
    "\n",
    "# calculating the proportion of each unique value in the \"gendr\"\n",
    "proportion_table = data_demo[\"gendr\"].value_counts(normalize=True)\n",
    "\n",
    "frequency_table, proportion_table"
   ]
  },
  {
   "cell_type": "code",
   "execution_count": null,
   "metadata": {},
   "outputs": [
    {
     "data": {
      "text/html": [
       "<div>\n",
       "<style scoped>\n",
       "    .dataframe tbody tr th:only-of-type {\n",
       "        vertical-align: middle;\n",
       "    }\n",
       "\n",
       "    .dataframe tbody tr th {\n",
       "        vertical-align: top;\n",
       "    }\n",
       "\n",
       "    .dataframe thead th {\n",
       "        text-align: right;\n",
       "    }\n",
       "</style>\n",
       "<table border=\"1\" class=\"dataframe\">\n",
       "  <thead>\n",
       "    <tr style=\"text-align: right;\">\n",
       "      <th>col_0</th>\n",
       "      <th>count</th>\n",
       "    </tr>\n",
       "    <tr>\n",
       "      <th>gendr</th>\n",
       "      <th></th>\n",
       "    </tr>\n",
       "  </thead>\n",
       "  <tbody>\n",
       "    <tr>\n",
       "      <th>F</th>\n",
       "      <td>22746</td>\n",
       "    </tr>\n",
       "    <tr>\n",
       "      <th>M</th>\n",
       "      <td>23724</td>\n",
       "    </tr>\n",
       "  </tbody>\n",
       "</table>\n",
       "</div>"
      ],
      "text/plain": [
       "col_0  count\n",
       "gendr       \n",
       "F      22746\n",
       "M      23724"
      ]
     },
     "execution_count": 92,
     "metadata": {},
     "output_type": "execute_result"
    }
   ],
   "source": [
    "# creating a crosstab table for the 'gendr' column, counting occurrences for each unique value\n",
    "my_table = pd.crosstab(index = data_demo_categorical[\"gendr\"],  # Make a crosstab\n",
    "                              columns=\"count\")      # Name the count column\n",
    "my_table"
   ]
  },
  {
   "cell_type": "code",
   "execution_count": 93,
   "metadata": {},
   "outputs": [
    {
     "data": {
      "text/html": [
       "<div>\n",
       "<style scoped>\n",
       "    .dataframe tbody tr th:only-of-type {\n",
       "        vertical-align: middle;\n",
       "    }\n",
       "\n",
       "    .dataframe tbody tr th {\n",
       "        vertical-align: top;\n",
       "    }\n",
       "\n",
       "    .dataframe thead th {\n",
       "        text-align: right;\n",
       "    }\n",
       "</style>\n",
       "<table border=\"1\" class=\"dataframe\">\n",
       "  <thead>\n",
       "    <tr style=\"text-align: right;\">\n",
       "      <th>col_0</th>\n",
       "      <th>count</th>\n",
       "    </tr>\n",
       "    <tr>\n",
       "      <th>gendr</th>\n",
       "      <th></th>\n",
       "    </tr>\n",
       "  </thead>\n",
       "  <tbody>\n",
       "    <tr>\n",
       "      <th>F</th>\n",
       "      <td>0.49</td>\n",
       "    </tr>\n",
       "    <tr>\n",
       "      <th>M</th>\n",
       "      <td>0.51</td>\n",
       "    </tr>\n",
       "  </tbody>\n",
       "</table>\n",
       "</div>"
      ],
      "text/plain": [
       "col_0  count\n",
       "gendr       \n",
       "F       0.49\n",
       "M       0.51"
      ]
     },
     "execution_count": 93,
     "metadata": {},
     "output_type": "execute_result"
    }
   ],
   "source": [
    "# calculating the proportions for each value in 'my_table' and rounding the results to two decimal places\n",
    "(my_table/my_table.sum()).round(2)"
   ]
  }
 ],
 "metadata": {
  "kernelspec": {
   "display_name": "base",
   "language": "python",
   "name": "python3"
  },
  "language_info": {
   "codemirror_mode": {
    "name": "ipython",
    "version": 3
   },
   "file_extension": ".py",
   "mimetype": "text/x-python",
   "name": "python",
   "nbconvert_exporter": "python",
   "pygments_lexer": "ipython3",
   "version": "3.12.7"
  }
 },
 "nbformat": 4,
 "nbformat_minor": 2
}
